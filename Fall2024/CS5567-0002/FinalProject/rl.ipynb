{
 "cells": [
  {
   "cell_type": "markdown",
   "metadata": {},
   "source": [
    "# Reinforcement Learning"
   ]
  },
  {
   "cell_type": "code",
   "execution_count": null,
   "metadata": {},
   "outputs": [],
   "source": [
    "import keras\n",
    "import numpy as np\n",
    "\n"
   ]
  },
  {
   "cell_type": "markdown",
   "metadata": {},
   "source": [
    "## Agent"
   ]
  },
  {
   "cell_type": "code",
   "execution_count": null,
   "metadata": {},
   "outputs": [],
   "source": [
    "class BuyerAgent:\n",
    "    def __init__(self, model_path=None):\n",
    "        if model_path is None:\n",
    "            self._build_and_save_model(model_path)\n",
    "\n",
    "        self.model = keras.models.load_model(model_path)\n",
    "\n",
    "    def _build_and_save_model(self, model_path):\n",
    "        self.model = keras.Sequential()\n",
    "        self.model.add(keras.layers.InputLayer(input_shape=(10,10)))\n",
    "        self.model.add(keras.layers.GRU(64, return_sequences=True))\n",
    "        self.model.add(keras.layers.GRU(64))\n",
    "        self.model.add(keras.layers.Dense(64, activation='relu'))\n",
    "        self.model.add(keras.layers.Dense(3, activation='softmax'))\n",
    "\n",
    "        self.model.compile(optimizer='adam', loss='categorical_crossentropy', metrics=['accuracy'])\n",
    "        self.model.save(model_path)\n",
    "\n",
    "    def act(self, state):\n",
    "        state = np.array(state).reshape(1, 10, 10)\n",
    "        return self.model.predict(state)[0]\n",
    "    \n",
    "    def expReplay(self, batch_size):\n",
    "        pass"
   ]
  }
 ],
 "metadata": {
  "kernelspec": {
   "display_name": "finproj",
   "language": "python",
   "name": "python3"
  },
  "language_info": {
   "name": "python",
   "version": "3.10.15"
  }
 },
 "nbformat": 4,
 "nbformat_minor": 2
}
