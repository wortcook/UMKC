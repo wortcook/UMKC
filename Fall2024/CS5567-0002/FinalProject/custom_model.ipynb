{
 "cells": [
  {
   "cell_type": "markdown",
   "metadata": {},
   "source": [
    "# Custom Model"
   ]
  },
  {
   "cell_type": "code",
   "execution_count": 11,
   "metadata": {},
   "outputs": [],
   "source": [
    "import tensorflow as tf\n",
    "\n",
    "import keras\n",
    "\n",
    "from keras import layers\n",
    "from keras import models\n",
    "from keras import optimizers\n",
    "\n",
    "from keras.utils import to_categorical\n",
    "\n",
    "from sklearn.model_selection import train_test_split\n",
    "\n",
    "\n"
   ]
  },
  {
   "cell_type": "markdown",
   "metadata": {},
   "source": [
    "## Dataset Import"
   ]
  },
  {
   "cell_type": "code",
   "execution_count": 12,
   "metadata": {},
   "outputs": [
    {
     "name": "stdout",
     "output_type": "stream",
     "text": [
      "(40000, 32, 32, 3) (10000, 32, 32, 3) (10000, 32, 32, 3)\n",
      "(40000, 10) (10000, 10) (10000, 10)\n"
     ]
    }
   ],
   "source": [
    "cifar10 = tf.keras.datasets.cifar10\n",
    "(X_train, Y_train), (X_test,Y_test) = cifar10.load_data()\n",
    "\n",
    "sx_train,sx_val,sy_train,sy_val = train_test_split(X_train, Y_train, test_size = 0.2)\n",
    "\n",
    "sy_train = to_categorical(sy_train, num_classes = 10)\n",
    "sy_val   = to_categorical(sy_val, num_classes = 10)\n",
    "Y_test   = to_categorical(Y_test, num_classes = 10)\n",
    "\n",
    "sx_train = sx_train * 1.0/255\n",
    "\n",
    "sx_val = sx_val * 1.0/255\n",
    "\n",
    "X_test = X_test * 1.0/255\n",
    "\n",
    "print(sx_train.shape, sx_val.shape, X_test.shape)\n",
    "print(sy_train.shape, sy_val.shape, Y_test.shape)"
   ]
  },
  {
   "cell_type": "markdown",
   "metadata": {},
   "source": []
  },
  {
   "cell_type": "code",
   "execution_count": 13,
   "metadata": {},
   "outputs": [
    {
     "data": {
      "text/html": [
       "<pre style=\"white-space:pre;overflow-x:auto;line-height:normal;font-family:Menlo,'DejaVu Sans Mono',consolas,'Courier New',monospace\"><span style=\"font-weight: bold\">Model: \"sequential_3\"</span>\n",
       "</pre>\n"
      ],
      "text/plain": [
       "\u001b[1mModel: \"sequential_3\"\u001b[0m\n"
      ]
     },
     "metadata": {},
     "output_type": "display_data"
    },
    {
     "data": {
      "text/html": [
       "<pre style=\"white-space:pre;overflow-x:auto;line-height:normal;font-family:Menlo,'DejaVu Sans Mono',consolas,'Courier New',monospace\">┏━━━━━━━━━━━━━━━━━━━━━━━━━━━━━━━━━┳━━━━━━━━━━━━━━━━━━━━━━━━┳━━━━━━━━━━━━━━━┓\n",
       "┃<span style=\"font-weight: bold\"> Layer (type)                    </span>┃<span style=\"font-weight: bold\"> Output Shape           </span>┃<span style=\"font-weight: bold\">       Param # </span>┃\n",
       "┡━━━━━━━━━━━━━━━━━━━━━━━━━━━━━━━━━╇━━━━━━━━━━━━━━━━━━━━━━━━╇━━━━━━━━━━━━━━━┩\n",
       "│ resizing_3 (<span style=\"color: #0087ff; text-decoration-color: #0087ff\">Resizing</span>)           │ (<span style=\"color: #00d7ff; text-decoration-color: #00d7ff\">None</span>, <span style=\"color: #00af00; text-decoration-color: #00af00\">224</span>, <span style=\"color: #00af00; text-decoration-color: #00af00\">224</span>, <span style=\"color: #00af00; text-decoration-color: #00af00\">3</span>)    │             <span style=\"color: #00af00; text-decoration-color: #00af00\">0</span> │\n",
       "├─────────────────────────────────┼────────────────────────┼───────────────┤\n",
       "│ functional_14 (<span style=\"color: #0087ff; text-decoration-color: #0087ff\">Functional</span>)      │ (<span style=\"color: #00d7ff; text-decoration-color: #00d7ff\">None</span>, <span style=\"color: #00af00; text-decoration-color: #00af00\">1500400</span>)        │       <span style=\"color: #00af00; text-decoration-color: #00af00\">460,360</span> │\n",
       "├─────────────────────────────────┼────────────────────────┼───────────────┤\n",
       "│ flatten_20 (<span style=\"color: #0087ff; text-decoration-color: #0087ff\">Flatten</span>)            │ (<span style=\"color: #00d7ff; text-decoration-color: #00d7ff\">None</span>, <span style=\"color: #00af00; text-decoration-color: #00af00\">1500400</span>)        │             <span style=\"color: #00af00; text-decoration-color: #00af00\">0</span> │\n",
       "├─────────────────────────────────┼────────────────────────┼───────────────┤\n",
       "│ dense_4 (<span style=\"color: #0087ff; text-decoration-color: #0087ff\">Dense</span>)                 │ (<span style=\"color: #00d7ff; text-decoration-color: #00d7ff\">None</span>, <span style=\"color: #00af00; text-decoration-color: #00af00\">256</span>)            │   <span style=\"color: #00af00; text-decoration-color: #00af00\">384,102,656</span> │\n",
       "├─────────────────────────────────┼────────────────────────┼───────────────┤\n",
       "│ dense_5 (<span style=\"color: #0087ff; text-decoration-color: #0087ff\">Dense</span>)                 │ (<span style=\"color: #00d7ff; text-decoration-color: #00d7ff\">None</span>, <span style=\"color: #00af00; text-decoration-color: #00af00\">10</span>)             │         <span style=\"color: #00af00; text-decoration-color: #00af00\">2,570</span> │\n",
       "└─────────────────────────────────┴────────────────────────┴───────────────┘\n",
       "</pre>\n"
      ],
      "text/plain": [
       "┏━━━━━━━━━━━━━━━━━━━━━━━━━━━━━━━━━┳━━━━━━━━━━━━━━━━━━━━━━━━┳━━━━━━━━━━━━━━━┓\n",
       "┃\u001b[1m \u001b[0m\u001b[1mLayer (type)                   \u001b[0m\u001b[1m \u001b[0m┃\u001b[1m \u001b[0m\u001b[1mOutput Shape          \u001b[0m\u001b[1m \u001b[0m┃\u001b[1m \u001b[0m\u001b[1m      Param #\u001b[0m\u001b[1m \u001b[0m┃\n",
       "┡━━━━━━━━━━━━━━━━━━━━━━━━━━━━━━━━━╇━━━━━━━━━━━━━━━━━━━━━━━━╇━━━━━━━━━━━━━━━┩\n",
       "│ resizing_3 (\u001b[38;5;33mResizing\u001b[0m)           │ (\u001b[38;5;45mNone\u001b[0m, \u001b[38;5;34m224\u001b[0m, \u001b[38;5;34m224\u001b[0m, \u001b[38;5;34m3\u001b[0m)    │             \u001b[38;5;34m0\u001b[0m │\n",
       "├─────────────────────────────────┼────────────────────────┼───────────────┤\n",
       "│ functional_14 (\u001b[38;5;33mFunctional\u001b[0m)      │ (\u001b[38;5;45mNone\u001b[0m, \u001b[38;5;34m1500400\u001b[0m)        │       \u001b[38;5;34m460,360\u001b[0m │\n",
       "├─────────────────────────────────┼────────────────────────┼───────────────┤\n",
       "│ flatten_20 (\u001b[38;5;33mFlatten\u001b[0m)            │ (\u001b[38;5;45mNone\u001b[0m, \u001b[38;5;34m1500400\u001b[0m)        │             \u001b[38;5;34m0\u001b[0m │\n",
       "├─────────────────────────────────┼────────────────────────┼───────────────┤\n",
       "│ dense_4 (\u001b[38;5;33mDense\u001b[0m)                 │ (\u001b[38;5;45mNone\u001b[0m, \u001b[38;5;34m256\u001b[0m)            │   \u001b[38;5;34m384,102,656\u001b[0m │\n",
       "├─────────────────────────────────┼────────────────────────┼───────────────┤\n",
       "│ dense_5 (\u001b[38;5;33mDense\u001b[0m)                 │ (\u001b[38;5;45mNone\u001b[0m, \u001b[38;5;34m10\u001b[0m)             │         \u001b[38;5;34m2,570\u001b[0m │\n",
       "└─────────────────────────────────┴────────────────────────┴───────────────┘\n"
      ]
     },
     "metadata": {},
     "output_type": "display_data"
    },
    {
     "data": {
      "text/html": [
       "<pre style=\"white-space:pre;overflow-x:auto;line-height:normal;font-family:Menlo,'DejaVu Sans Mono',consolas,'Courier New',monospace\"><span style=\"font-weight: bold\"> Total params: </span><span style=\"color: #00af00; text-decoration-color: #00af00\">384,565,586</span> (1.43 GB)\n",
       "</pre>\n"
      ],
      "text/plain": [
       "\u001b[1m Total params: \u001b[0m\u001b[38;5;34m384,565,586\u001b[0m (1.43 GB)\n"
      ]
     },
     "metadata": {},
     "output_type": "display_data"
    },
    {
     "data": {
      "text/html": [
       "<pre style=\"white-space:pre;overflow-x:auto;line-height:normal;font-family:Menlo,'DejaVu Sans Mono',consolas,'Courier New',monospace\"><span style=\"font-weight: bold\"> Trainable params: </span><span style=\"color: #00af00; text-decoration-color: #00af00\">384,564,594</span> (1.43 GB)\n",
       "</pre>\n"
      ],
      "text/plain": [
       "\u001b[1m Trainable params: \u001b[0m\u001b[38;5;34m384,564,594\u001b[0m (1.43 GB)\n"
      ]
     },
     "metadata": {},
     "output_type": "display_data"
    },
    {
     "data": {
      "text/html": [
       "<pre style=\"white-space:pre;overflow-x:auto;line-height:normal;font-family:Menlo,'DejaVu Sans Mono',consolas,'Courier New',monospace\"><span style=\"font-weight: bold\"> Non-trainable params: </span><span style=\"color: #00af00; text-decoration-color: #00af00\">992</span> (3.88 KB)\n",
       "</pre>\n"
      ],
      "text/plain": [
       "\u001b[1m Non-trainable params: \u001b[0m\u001b[38;5;34m992\u001b[0m (3.88 KB)\n"
      ]
     },
     "metadata": {},
     "output_type": "display_data"
    }
   ],
   "source": [
    "cmi = keras.Input(shape=(None,None,3))\n",
    "\n",
    "end_layers = []\n",
    "\n",
    "#001\n",
    "# conv_scales = [2, 4, 8, 16]\n",
    "# inp_shapes =  [18, 9, 6, 3]\n",
    "\n",
    "#001\n",
    "# for i in range(len(conv_scales)):\n",
    "#     conv_scale = conv_scales[i]\n",
    "#     inp_shape = inp_shapes[i]\n",
    "#     x = layers.Dropout(0.1)(cmi)\n",
    "#     x = layers.Conv2D(4 * conv_scale,  (inp_shape,inp_shape), activation='relu', padding='same')(x)\n",
    "#     x = layers.MaxPooling2D((2,2))(x)\n",
    "#     x1 = layers.Conv2D(8 * conv_scale,  (3,3), activation='relu')(x)\n",
    "#     x2 = layers.Conv2D(8 * conv_scale, (3,3), activation='relu', padding='same')(x1)\n",
    "#     x = layers.add([x1,x2])\n",
    "#     x = layers.MaxPooling2D((2,2))(x)\n",
    "#     x1 = layers.Conv2D(64, (3,3), activation='relu')(x)\n",
    "#     x2 = layers.Conv2D(64, (3,3), activation='relu', padding='same')(x1)\n",
    "#     x = layers.add([x1,x2])\n",
    "#     x = layers.MaxPooling2D((2,2))(x)\n",
    "#     x = layers.BatchNormalization()(x)\n",
    "#     x = layers.Flatten()(x)\n",
    "#     end_layers.append(x)\n",
    "\n",
    "\n",
    "#002\n",
    "conv_scales = [ 2,  4, 8, 16, 32]\n",
    "inp_shapes =  [36, 18, 9,  6,  3]\n",
    "for i in range(len(conv_scales)):\n",
    "    conv_scale = conv_scales[i]\n",
    "    inp_shape = inp_shapes[i]\n",
    "    x = layers.Dropout(0.1)(cmi)\n",
    "    x = layers.Conv2D(4 * conv_scale,  (inp_shape,inp_shape), activation='relu', padding='same')(x)\n",
    "    x = layers.MaxPooling2D((2,2))(x)\n",
    "    x1 = layers.Conv2D(8 * conv_scale,  (3,3), activation='relu')(x)\n",
    "    x = layers.MaxPooling2D((2,2))(x1)\n",
    "    x = layers.BatchNormalization()(x)\n",
    "    x = layers.Flatten()(x)\n",
    "    end_layers.append(x)\n",
    "\n",
    "\n",
    "cm_concat = layers.concatenate(end_layers)\n",
    "\n",
    "central_model = models.Model(inputs=cmi, outputs=cm_concat)\n",
    "\n",
    "\n",
    "wrapper_model = models.Sequential()\n",
    "wrapper_model.add(layers.InputLayer(input_shape=(32, 32, 3)))\n",
    "wrapper_model.add(layers.Resizing(224,224, interpolation='bicubic'))\n",
    "wrapper_model.add(central_model)\n",
    "wrapper_model.add(layers.Flatten())\n",
    "wrapper_model.add(layers.Dense(256, activation='relu'))\n",
    "wrapper_model.add(layers.Dense(10, activation='softmax'))\n",
    "\n",
    "wrapper_model.summary()"
   ]
  },
  {
   "cell_type": "code",
   "execution_count": null,
   "metadata": {},
   "outputs": [
    {
     "name": "stdout",
     "output_type": "stream",
     "text": [
      "Epoch 1/10\n"
     ]
    }
   ],
   "source": [
    "optimizer = optimizers.Adam()\n",
    "\n",
    "wrapper_model.compile(optimizer='adam', loss='categorical_crossentropy', metrics=['accuracy'])\n",
    "\n",
    "wrapper_model.fit(sx_train, sy_train, epochs=10, batch_size=int(sx_train.shape[0]/100), validation_data=(sx_val, sy_val))"
   ]
  },
  {
   "cell_type": "code",
   "execution_count": null,
   "metadata": {},
   "outputs": [
    {
     "name": "stdout",
     "output_type": "stream",
     "text": [
      "\u001b[1m313/313\u001b[0m \u001b[32m━━━━━━━━━━━━━━━━━━━━\u001b[0m\u001b[37m\u001b[0m \u001b[1m15s\u001b[0m 48ms/step - accuracy: 0.2121 - loss: 278.3063\n"
     ]
    }
   ],
   "source": [
    "wrapper_model.evaluate(X_test, Y_test)\n",
    "\n",
    "wrapper_model.save('wrapper_model_002.keras')\n",
    "\n",
    "central_model.save('central_model_002.keras')"
   ]
  }
 ],
 "metadata": {
  "kernelspec": {
   "display_name": "finproj",
   "language": "python",
   "name": "python3"
  },
  "language_info": {
   "codemirror_mode": {
    "name": "ipython",
    "version": 3
   },
   "file_extension": ".py",
   "mimetype": "text/x-python",
   "name": "python",
   "nbconvert_exporter": "python",
   "pygments_lexer": "ipython3",
   "version": "3.10.15"
  }
 },
 "nbformat": 4,
 "nbformat_minor": 2
}
