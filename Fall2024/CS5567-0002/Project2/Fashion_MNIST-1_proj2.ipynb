{
  "cells": [
    {
      "cell_type": "markdown",
      "metadata": {},
      "source": [
        "# Thomas Jones - COMP_SCI-5567-0002-46075-2024FS-Deep Learning\n",
        "\n",
        "## Project #2"
      ]
    },
    {
      "cell_type": "code",
      "execution_count": 512,
      "metadata": {
        "id": "hASLpyncBmvt"
      },
      "outputs": [
        {
          "name": "stderr",
          "output_type": "stream",
          "text": [
            "92458.52s - pydevd: Sending message related to process being replaced timed-out after 5 seconds\n"
          ]
        },
        {
          "name": "stdout",
          "output_type": "stream",
          "text": [
            "zsh:1: 2.0.0 not found\n"
          ]
        }
      ],
      "source": [
        "!pip install -U portalocker>=2.0.0"
      ]
    },
    {
      "cell_type": "markdown",
      "metadata": {
        "id": "jum_uBK3SA8Q"
      },
      "source": [
        "## Common Imports"
      ]
    },
    {
      "cell_type": "code",
      "execution_count": 513,
      "metadata": {
        "id": "1AShoC94SHM6"
      },
      "outputs": [],
      "source": [
        "import torch\n",
        "import torch.nn as nn\n",
        "import torch.optim as optim\n",
        "import torchvision\n",
        "import torchvision.transforms as transforms\n",
        "from torch.utils.data import DataLoader\n",
        "import matplotlib.pyplot as plt\n",
        "import json\n",
        "\n"
      ]
    },
    {
      "cell_type": "markdown",
      "metadata": {},
      "source": [
        "## General MPL Implementation "
      ]
    },
    {
      "cell_type": "code",
      "execution_count": 514,
      "metadata": {},
      "outputs": [],
      "source": [
        "\n",
        "\n",
        "\n",
        "class MLP(nn.Module): #MLP stands for \"Multi-Layer Perceptron\"\n",
        "    '''\n",
        "    MLP class for dense neural network.\n",
        "    Create passing an array of hidden layer topologies and activations.\n",
        "    The topology array should contain the number of neurons in each hidden layer.\n",
        "    The activations array should contain the activation function for each hidden layer.\n",
        "    The input layer is always 28*28 and the output layer is always 10 for this dataset.\n",
        "    '''\n",
        "    def __init__(self, topology, activations, include_dropout=False): #this initializes the structure of the network\n",
        "        super(MLP, self).__init__()\n",
        "        self.topology = topology\n",
        "        self.hidden_activations = activations\n",
        "        self.include_dropout = include_dropout\n",
        "\n",
        "        #Create layer topologies\n",
        "        for i in range(len(self.topology)-1):\n",
        "            setattr(self, 'fc' + str(i), nn.Linear(self.topology[i], self.topology[i+1]))\n",
        "            \n",
        "\n",
        "\n",
        "    def forward(self, x): #this modifies the elements of the intial structure defined above\n",
        "        x = x.view(-1, self.topology[0]) #the array is sent in as a vector\n",
        "\n",
        "        #Forward pass through hidden layers with activations\n",
        "        for i in range(len(self.topology)-2):\n",
        "            #randomly drop out 20% of the neurons in the first hidden layer\n",
        "            if(i==1 and self.include_dropout):\n",
        "                x = nn.Dropout(0.2)(x)\n",
        "            x = getattr(self, 'fc' + str(i))(x)\n",
        "            x = self.hidden_activations[i](x)\n",
        "\n",
        "        #Forward pass through output layer\n",
        "        return getattr(self, 'fc' + str(len(self.topology)-2))(x)\n",
        "    \n"
      ]
    },
    {
      "cell_type": "markdown",
      "metadata": {},
      "source": [
        "## Model and Optimizer Generators\n",
        "These two classes are used to iterate through a set of target topologies (number of layers, layer size, activations for each layer)\n",
        "and optimizers. For this project we've chose 3 different optimizers to test and these are \"hardcoded\" as selections."
      ]
    },
    {
      "cell_type": "code",
      "execution_count": 515,
      "metadata": {},
      "outputs": [],
      "source": [
        "\n",
        "class RandomTestGenerator:\n",
        "    '''\n",
        "    Random model generator. Given a set of topologies, activations, and initializers,\n",
        "    this class can generate a model with random parameters.\n",
        "    Optimizer params are passed in as a dictionary. Only a few parameters are supported for each.\n",
        "    Each of the additional parameters should be passed as an array to be selected from.\n",
        "    'adam' : lr, weight_decay\n",
        "    'sgd' : lr, momentum, weight_decay\n",
        "    'asgd' : lr, weight_decay\n",
        "    '''\n",
        "    def __init__(self, topologies, optimizer_params):\n",
        "        self.topologies = topologies\n",
        "        self.optimizer_params = optimizer_params\n",
        "\n",
        "    def random_model(self):\n",
        "        '''\n",
        "        Generate a random model with the given topologies, activations, and initializers.\n",
        "        '''\n",
        "        selected_topology = self.topologies[torch.randint(len(self.topologies), (1,)).item()]\n",
        "        model = MLP(selected_topology[0], selected_topology[1], False)\n",
        "        return model, selected_topology[0], selected_topology[1]\n",
        "    \n",
        "\n",
        "    def random_optimizer(self, model):\n",
        "        '''\n",
        "        Generate a random optimizer for the given model.\n",
        "        '''\n",
        "\n",
        "        algorithm_selector = torch.randint(3, (1,)).item()\n",
        "\n",
        "        optimizer_params = {}\n",
        "        optimizer_algo = None\n",
        "\n",
        "        if algorithm_selector == 0:\n",
        "            lr = self.optimizer_params['adam']['lr'][torch.randint(len(self.optimizer_params['adam']['lr']), (1,)).item()]\n",
        "            wd = self.optimizer_params['adam']['weight_decay'][torch.randint(len(self.optimizer_params['adam']['weight_decay']), (1,)).item()]\n",
        "            optimizer = optim.Adam(model.parameters(), lr=lr, weight_decay=wd)\n",
        "            optimizer_params['lr'] = lr\n",
        "            optimizer_params['weight_decay'] = wd\n",
        "            optimizer_algo = 'adam'\n",
        "        elif algorithm_selector == 1:\n",
        "            lr = self.optimizer_params['sgd']['lr'][torch.randint(len(self.optimizer_params['sgd']['lr']), (1,)).item()]\n",
        "            momentum = self.optimizer_params['sgd']['momentum'][torch.randint(len(self.optimizer_params['sgd']['momentum']), (1,)).item()]\n",
        "            wd = self.optimizer_params['sgd']['weight_decay'][torch.randint(len(self.optimizer_params['sgd']['weight_decay']), (1,)).item()]\n",
        "            optimizer = optim.SGD(model.parameters(), lr=lr, momentum=momentum, weight_decay=wd)\n",
        "            optimizer_params['lr'] = lr\n",
        "            optimizer_params['momentum'] = momentum\n",
        "            optimizer_params['weight_decay'] = wd\n",
        "            optimizer_algo = 'sgd'\n",
        "        elif algorithm_selector == 2:\n",
        "            lr = self.optimizer_params['asgd']['lr'][torch.randint(len(self.optimizer_params['asgd']['lr']), (1,)).item()]\n",
        "            wd = self.optimizer_params['asgd']['weight_decay'][torch.randint(len(self.optimizer_params['asgd']['weight_decay']), (1,)).item()]\n",
        "            optimizer = optim.RMSprop(model.parameters(), lr=lr, weight_decay=wd)\n",
        "            optimizer_params['lr'] = lr\n",
        "            optimizer_params['weight_decay'] = wd\n",
        "            optimizer_algo = 'asgd'\n",
        "        return optimizer, optimizer_algo, optimizer_params\n",
        "    \n",
        "\n",
        "class SequentialTestGenerator:\n",
        "    '''\n",
        "    Random model generator. Given a set of topologies, activations, and initializers,\n",
        "    this class can generate a model with random parameters.\n",
        "    Optimizer params are passed in as a dictionary. Only a few parameters are supported for each.\n",
        "    Each of the additional parameters should be passed as an array to be selected from.\n",
        "    'adam' : lr, weight_decay\n",
        "    'sgd' : lr, momentum, weight_decay\n",
        "    'asgd' : lr, weight_decay\n",
        "    '''\n",
        "    def __init__(self, topologies, optimizer_params):\n",
        "        self.topologies = topologies\n",
        "        self.optimizer_params = optimizer_params\n",
        "\n",
        "        self.topology_index = 0\n",
        "        self.optimizer_algo_index = 0\n",
        "        self.optimizer_params_index = [0, 0, 0]\n",
        "\n",
        "    def next_model(self):\n",
        "        '''\n",
        "        Generate a model based on the current iterator parameters.\n",
        "        '''\n",
        "        if self.topology_index >= len(self.topologies):\n",
        "            return None, None, None\n",
        "\n",
        "        topology = self.topologies[self.topology_index]\n",
        "\n",
        "        model = MLP(topology[0], topology[1], False)\n",
        "\n",
        "        return model, topology[0], topology[1]\n",
        "    \n",
        "    def iterate_model(self):\n",
        "        '''\n",
        "        Generate the next model in the list of topologies and activations.\n",
        "        '''\n",
        "        self.topology_index += 1\n",
        "\n",
        "    def has_next_model(self):\n",
        "        return self.topology_index < len(self.topologies)\n",
        "\n",
        "    def reset_model_iterator(self):\n",
        "        '''\n",
        "        Reset the model iterator to the beginning.\n",
        "        '''\n",
        "        self.topology_index = 0\n",
        " \n",
        "    def reset_optimizer(self):\n",
        "        '''\n",
        "        Reset the optimizer iterator to the beginning.\n",
        "        '''\n",
        "        self.optimizer_algo_index = 0\n",
        "        self.optimizer_params_index = [0, 0, 0]\n",
        "\n",
        "    def iterate_optimizer(self):\n",
        "        '''\n",
        "        Generate the next optimizer in the list of optimizer parameters.\n",
        "        '''\n",
        "        if self.optimizer_algo_index == 0:\n",
        "            optimizer_algo = 'adam'\n",
        "        elif self.optimizer_algo_index == 1:\n",
        "            optimizer_algo = 'sgd'\n",
        "        elif self.optimizer_algo_index >= 2:\n",
        "            optimizer_algo = 'asgd'\n",
        "\n",
        "        self.optimizer_params_index[0] += 1\n",
        "        if self.optimizer_params_index[0] >= len(self.optimizer_params[optimizer_algo]['lr']):\n",
        "            self.optimizer_params_index[0] = 0\n",
        "            self.optimizer_params_index[1] += 1\n",
        "            if self.optimizer_params_index[1] >= len(self.optimizer_params[optimizer_algo]['weight_decay']):\n",
        "                self.optimizer_params_index[1] = 0\n",
        "                self.optimizer_params_index[2] += 1\n",
        "                if(optimizer_algo == 'sgd'):\n",
        "                    if self.optimizer_params_index[2] >= len(self.optimizer_params[optimizer_algo]['momentum']):\n",
        "                        self.optimizer_params_index[2] = 0\n",
        "                        self.optimizer_algo_index += 1\n",
        "                else:\n",
        "                    self.optimizer_algo_index += 1\n",
        "\n",
        "    def has_next_optimizer(self):\n",
        "        return self.optimizer_algo_index < len(self.optimizer_params)\n",
        "    \n",
        "    def next_optimizer(self, model):\n",
        "        '''\n",
        "        Generate the next optimizer in the list of optimizer parameters.\n",
        "        '''\n",
        "        optimizer_params = {}\n",
        "        optimizer_algo = None\n",
        "\n",
        "        if self.optimizer_algo_index >= len(self.optimizer_params):\n",
        "            return None, None, None\n",
        "\n",
        "        if self.optimizer_algo_index == 0:\n",
        "            lr = self.optimizer_params['adam']['lr'][self.optimizer_params_index[0]]\n",
        "            wd = self.optimizer_params['adam']['weight_decay'][self.optimizer_params_index[1]]\n",
        "            optimizer = optim.Adam(model.parameters(), lr=lr, weight_decay=wd)\n",
        "            optimizer_params['lr'] = lr\n",
        "            optimizer_params['weight_decay'] = wd\n",
        "            optimizer_algo = 'adam'\n",
        "        elif self.optimizer_algo_index == 1:\n",
        "            lr = self.optimizer_params['sgd']['lr'][self.optimizer_params_index[0]]\n",
        "            wd = self.optimizer_params['sgd']['weight_decay'][self.optimizer_params_index[1]]\n",
        "            momentum = self.optimizer_params['sgd']['momentum'][self.optimizer_params_index[2]]\n",
        "            optimizer = optim.SGD(model.parameters(), lr=lr, momentum=momentum, weight_decay=wd)\n",
        "            optimizer_params['lr'] = lr\n",
        "            optimizer_params['momentum'] = momentum\n",
        "            optimizer_params['weight_decay'] = wd\n",
        "            optimizer_algo = 'sgd'\n",
        "        elif self.optimizer_algo_index == 2:\n",
        "            lr = self.optimizer_params['asgd']['lr'][self.optimizer_params_index[0]]\n",
        "            wd = self.optimizer_params['asgd']['weight_decay'][self.optimizer_params_index[1]]\n",
        "            optimizer = optim.ASGD(model.parameters(), lr=lr, weight_decay=wd)\n",
        "            optimizer_params['lr'] = lr\n",
        "            optimizer_params['weight_decay'] = wd\n",
        "            optimizer_algo = 'asgd'\n",
        "        \n",
        "        return optimizer, optimizer_algo, optimizer_params\n"
      ]
    },
    {
      "cell_type": "markdown",
      "metadata": {},
      "source": [
        "## Test Runner Implementations\n",
        "run_evaluation executes a single model and optimizer, for a given number of epochs over a set of training and test data.\n",
        "The other parameters are there for reporting purposes.\n",
        "\n",
        "iterate_generator loops through the passed topology and optimizer configurations."
      ]
    },
    {
      "cell_type": "code",
      "execution_count": 516,
      "metadata": {},
      "outputs": [],
      "source": [
        "\n",
        "def run_evaluation(model, optimizer, criterion, num_epochs, train_data_loader, test_data_loader, topology, activations, algo, params, output_file):\n",
        "        #Get the model and optimizer for this run\n",
        "        for epoch in range(num_epochs):\n",
        "            model.train()\n",
        "            running_loss = 0.0\n",
        "            for i, data in enumerate(train_data_loader, 0):\n",
        "                inputs, labels = data\n",
        "                optimizer.zero_grad()\n",
        "                outputs = model(inputs)\n",
        "                loss = criterion(outputs, labels)\n",
        "                loss.backward()\n",
        "                optimizer.step()\n",
        "                running_loss += loss.item()\n",
        "                # if i % 100 == 99:  # print every 100 mini-batches\n",
        "                #     print(f'Epoch {epoch + 1}, Batch {i + 1}, Loss: {running_loss / 100}')\n",
        "                #     running_loss = 0.0\n",
        "\n",
        "        model.eval()\n",
        "        correct = 0\n",
        "        total = 0\n",
        "        with torch.no_grad():\n",
        "            for data in test_data_loader:\n",
        "                images, labels = data\n",
        "                outputs = model(images)\n",
        "                _, predicted = torch.max(outputs.data, 1)\n",
        "                total += labels.size(0)\n",
        "                correct += (predicted == labels).sum().item()\n",
        "\n",
        "        activation_string = '['\n",
        "        for activation in activations:\n",
        "            activation_string += activation.__name__ + ', '\n",
        "\n",
        "        activation_string = activation_string[:-2] + ']'\n",
        "\n",
        "        print('Accuracy:  %d %%' % (100 * correct / total))\n",
        "        print('Topology:', topology)\n",
        "        print('Activations:', activation_string)\n",
        "        print('Optimizer:', algo)\n",
        "        print('Params:', params)\n",
        "\n",
        "        results_file = open(output_file, 'a')\n",
        "        results_file.write(str(100 * correct / total) + ',' + str(topology) + ',' + activation_string + ',' + algo + ',' + str(params) + '\\n')\n",
        "        results_file.close()\n",
        "\n",
        "\n",
        "def iterate_generator(output_file, generator, epochs_per_run, train_data_loader, test_data_loader, criterion):\n",
        "    #initialize model and optimizer so they are not None\n",
        "    model, optimizer = True, True\n",
        "\n",
        "    while generator.has_next_model():\n",
        "        generator.reset_optimizer()\n",
        "\n",
        "        while generator.has_next_optimizer():\n",
        "            #Get the current iterator model and optimizer\n",
        "            model, iter_topology, iter_activations = generator.next_model()\n",
        "            optimizer, iter_algo, iter_params = generator.next_optimizer(model)\n",
        "\n",
        "            #Run the evaluation\n",
        "            run_evaluation(model, optimizer, criterion, epochs_per_run, train_data_loader, test_data_loader, iter_topology, iter_activations, iter_algo, iter_params, output_file)\n",
        "\n",
        "            #Iterate to the next optimizer\n",
        "            generator.iterate_optimizer()\n",
        "\n",
        "        generator.iterate_model() #move to the next model\n"
      ]
    },
    {
      "cell_type": "markdown",
      "metadata": {},
      "source": [
        "## Task - 1"
      ]
    },
    {
      "cell_type": "markdown",
      "metadata": {},
      "source": [
        "Load the MNIST dataset."
      ]
    },
    {
      "cell_type": "code",
      "execution_count": 517,
      "metadata": {
        "id": "YDg8ZzyzSKpu"
      },
      "outputs": [],
      "source": [
        "# Transformations --> this is a \"pre-processing step\" that's typical for image processing methods\n",
        "transform = transforms.Compose([\n",
        "    transforms.ToTensor(),  # Convert PIL image or numpy.ndarray to tensor\n",
        "    transforms.Normalize((0.5,), (0.5,))  # Normalize data to range [-1, 1]\n",
        "])\n",
        "# This dataset is already \"sorted\" as part of the import method, but no \"validation\" set has been selected in this case\n",
        "# Loading the FashionMNIST dataset\n",
        "train_dataset = torchvision.datasets.MNIST(root='./data', train=True, download=True, transform=transform)\n",
        "test_dataset = torchvision.datasets.MNIST(root='./data', train=False, download=True, transform=transform)\n",
        "\n",
        "# Training and Testing loaders\n",
        "train_loader = torch.utils.data.DataLoader(train_dataset, batch_size=64, shuffle=True)\n",
        "test_loader = torch.utils.data.DataLoader(test_dataset, batch_size=64, shuffle=False)"
      ]
    },
    {
      "cell_type": "code",
      "execution_count": 518,
      "metadata": {
        "id": "3DRu0tGPS0dy"
      },
      "outputs": [],
      "source": [
        "# Mapping the labels for the MNIST dataset -- later we'll see that this using the \"keras to_categorical\" method as discussed in class\n",
        "labels_map = {\n",
        "    0: \"0\", 1: \"1\", 2: \"2\", 3: \"3\", 4: \"4\",\n",
        "    5: \"5\", 6: \"6\", 7: \"7\", 8: \"8\", 9: \"9\"\n",
        "}"
      ]
    },
    {
      "cell_type": "code",
      "execution_count": 519,
      "metadata": {
        "colab": {
          "base_uri": "https://localhost:8080/",
          "height": 675
        },
        "id": "DnFh3_pTS8fD",
        "outputId": "5dc06071-596f-47f2-90e9-846eca184a30"
      },
      "outputs": [
        {
          "data": {
            "image/png": "[encoded data removed]",
            "text/plain": [
              "<Figure size 800x800 with 9 Axes>"
            ]
          },
          "metadata": {},
          "output_type": "display_data"
        }
      ],
      "source": [
        "#This cell is designed to display a few images from the dataset\n",
        "#It isn't necessary to run this, but it can help give a better idea of the challanges your model will face\n",
        "figure = plt.figure(figsize=(8, 8))\n",
        "cols, rows = 3, 3\n",
        "\n",
        "# Displaying figures from the dataset randomly\n",
        "for i in range(1, cols * rows + 1):\n",
        "    sample_idx = torch.randint(len(train_dataset), size=(1,)).item()\n",
        "    img, label = train_dataset[sample_idx]\n",
        "    figure.add_subplot(rows, cols, i)\n",
        "    plt.title(labels_map[label])\n",
        "    plt.axis(\"off\")\n",
        "    plt.imshow(img.squeeze(), cmap=\"gray\")\n",
        "plt.show()"
      ]
    },
    {
      "cell_type": "code",
      "execution_count": 520,
      "metadata": {
        "colab": {
          "base_uri": "https://localhost:8080/"
        },
        "id": "OfpEh_TyTLBa",
        "outputId": "bd6acb53-37dd-446b-a37b-3e856476f51b"
      },
      "outputs": [
        {
          "name": "stdout",
          "output_type": "stream",
          "text": [
            "Epoch 1, Batch 100, Loss: 1.9382597017288208\n",
            "Epoch 1, Batch 200, Loss: 1.2726190328598022\n",
            "Epoch 1, Batch 300, Loss: 0.8514104473590851\n",
            "Epoch 1, Batch 400, Loss: 0.631805791258812\n",
            "Epoch 1, Batch 500, Loss: 0.511779689192772\n",
            "Epoch 1, Batch 600, Loss: 0.4571631535887718\n",
            "Epoch 1, Batch 700, Loss: 0.396083063185215\n",
            "Epoch 1, Batch 800, Loss: 0.36767498061060905\n",
            "Epoch 1, Batch 900, Loss: 0.348691092133522\n",
            "Epoch 2, Batch 100, Loss: 0.324303784519434\n",
            "Epoch 2, Batch 200, Loss: 0.30306769758462904\n",
            "Epoch 2, Batch 300, Loss: 0.28224260970950127\n",
            "Epoch 2, Batch 400, Loss: 0.2811019948869944\n",
            "Epoch 2, Batch 500, Loss: 0.29171850070357325\n",
            "Epoch 2, Batch 600, Loss: 0.2778995803743601\n",
            "Epoch 2, Batch 700, Loss: 0.27258835718035695\n",
            "Epoch 2, Batch 800, Loss: 0.2437984708696604\n",
            "Epoch 2, Batch 900, Loss: 0.2319589452445507\n",
            "Accuracy:  92 %\n",
            "Topology: [784, 32, 16, 10]\n",
            "Activations: [sigmoid, tanh]\n",
            "Optimizer: adam\n",
            "Params: {'lr': 0.001, 'weight_decay': 0.0}\n",
            "Epoch 1, Batch 100, Loss: 1.664015872478485\n",
            "Epoch 1, Batch 200, Loss: 0.7651946783065796\n",
            "Epoch 1, Batch 300, Loss: 0.5157528284192086\n",
            "Epoch 1, Batch 400, Loss: 0.39063491821289065\n",
            "Epoch 1, Batch 500, Loss: 0.3764733698964119\n",
            "Epoch 1, Batch 600, Loss: 0.3398798841238022\n",
            "Epoch 1, Batch 700, Loss: 0.3132279358804226\n",
            "Epoch 1, Batch 800, Loss: 0.2995660588145256\n",
            "Epoch 1, Batch 900, Loss: 0.29170434176921844\n",
            "Epoch 2, Batch 100, Loss: 0.2441463989764452\n",
            "Epoch 2, Batch 200, Loss: 0.24758148863911628\n",
            "Epoch 2, Batch 300, Loss: 0.25165904335677625\n",
            "Epoch 2, Batch 400, Loss: 0.2505770164728165\n",
            "Epoch 2, Batch 500, Loss: 0.261052685379982\n",
            "Epoch 2, Batch 600, Loss: 0.24813669256865978\n",
            "Epoch 2, Batch 700, Loss: 0.22280128479003905\n",
            "Epoch 2, Batch 800, Loss: 0.2299598551914096\n",
            "Epoch 2, Batch 900, Loss: 0.19878946907818318\n",
            "Accuracy:  93 %\n",
            "Topology: [784, 32, 16, 10]\n",
            "Activations: [sigmoid, tanh]\n",
            "Optimizer: adam\n",
            "Params: {'lr': 0.002, 'weight_decay': 0.0}\n",
            "Epoch 1, Batch 100, Loss: 1.5260559445619584\n",
            "Epoch 1, Batch 200, Loss: 0.6827572774887085\n",
            "Epoch 1, Batch 300, Loss: 0.4770061609148979\n",
            "Epoch 1, Batch 400, Loss: 0.4033819644153118\n",
            "Epoch 1, Batch 500, Loss: 0.3835370352864265\n",
            "Epoch 1, Batch 600, Loss: 0.3734411898255348\n",
            "Epoch 1, Batch 700, Loss: 0.32952660486102103\n",
            "Epoch 1, Batch 800, Loss: 0.3507539834082127\n",
            "Epoch 1, Batch 900, Loss: 0.3218620082736015\n",
            "Epoch 2, Batch 100, Loss: 0.3149944902956486\n",
            "Epoch 2, Batch 200, Loss: 0.30311828829348086\n",
            "Epoch 2, Batch 300, Loss: 0.2972600232809782\n",
            "Epoch 2, Batch 400, Loss: 0.2871989821642637\n",
            "Epoch 2, Batch 500, Loss: 0.26703827783465384\n",
            "Epoch 2, Batch 600, Loss: 0.29289122320711614\n",
            "Epoch 2, Batch 700, Loss: 0.2646146212518215\n",
            "Epoch 2, Batch 800, Loss: 0.27339421793818475\n",
            "Epoch 2, Batch 900, Loss: 0.26398514315485955\n",
            "Accuracy:  92 %\n",
            "Topology: [784, 32, 16, 10]\n",
            "Activations: [sigmoid, tanh]\n",
            "Optimizer: adam\n",
            "Params: {'lr': 0.004, 'weight_decay': 0.0}\n",
            "Epoch 1, Batch 100, Loss: 1.2303267121315002\n",
            "Epoch 1, Batch 200, Loss: 0.6029175519943237\n",
            "Epoch 1, Batch 300, Loss: 0.479310392588377\n",
            "Epoch 1, Batch 400, Loss: 0.43512205213308336\n",
            "Epoch 1, Batch 500, Loss: 0.3976284791529179\n",
            "Epoch 1, Batch 600, Loss: 0.445089261084795\n",
            "Epoch 1, Batch 700, Loss: 0.44219100520014765\n",
            "Epoch 1, Batch 800, Loss: 0.3966787479817867\n",
            "Epoch 1, Batch 900, Loss: 0.362500776052475\n",
            "Epoch 2, Batch 100, Loss: 0.39308875665068627\n",
            "Epoch 2, Batch 200, Loss: 0.40135866567492484\n",
            "Epoch 2, Batch 300, Loss: 0.3693964061141014\n",
            "Epoch 2, Batch 400, Loss: 0.3448367880284786\n",
            "Epoch 2, Batch 500, Loss: 0.328584872931242\n",
            "Epoch 2, Batch 600, Loss: 0.38312754541635513\n",
            "Epoch 2, Batch 700, Loss: 0.3336847570538521\n",
            "Epoch 2, Batch 800, Loss: 0.35237405851483344\n",
            "Epoch 2, Batch 900, Loss: 0.35619110472500326\n",
            "Accuracy:  91 %\n",
            "Topology: [784, 32, 16, 10]\n",
            "Activations: [sigmoid, tanh]\n",
            "Optimizer: adam\n",
            "Params: {'lr': 0.008, 'weight_decay': 0.0}\n",
            "Epoch 1, Batch 100, Loss: 1.5369697469472885\n",
            "Epoch 1, Batch 200, Loss: 0.8830454105138779\n",
            "Epoch 1, Batch 300, Loss: 0.7099759531021118\n",
            "Epoch 1, Batch 400, Loss: 0.6915759506821633\n",
            "Epoch 1, Batch 500, Loss: 0.6346835285425186\n",
            "Epoch 1, Batch 600, Loss: 0.6091158258914947\n",
            "Epoch 1, Batch 700, Loss: 0.6128880614042282\n",
            "Epoch 1, Batch 800, Loss: 0.587276295721531\n",
            "Epoch 1, Batch 900, Loss: 0.5470508298277855\n",
            "Epoch 2, Batch 100, Loss: 0.5560135415196419\n",
            "Epoch 2, Batch 200, Loss: 0.5799067151546479\n",
            "Epoch 2, Batch 300, Loss: 0.5482788649201393\n",
            "Epoch 2, Batch 400, Loss: 0.5813635575771332\n",
            "Epoch 2, Batch 500, Loss: 0.5770347875356674\n",
            "Epoch 2, Batch 600, Loss: 0.5563613373041153\n",
            "Epoch 2, Batch 700, Loss: 0.5487619709968566\n",
            "Epoch 2, Batch 800, Loss: 0.5015646322071552\n",
            "Epoch 2, Batch 900, Loss: 0.5139183710515499\n",
            "Accuracy:  84 %\n",
            "Topology: [784, 32, 16, 10]\n",
            "Activations: [sigmoid, tanh]\n",
            "Optimizer: adam\n",
            "Params: {'lr': 0.01, 'weight_decay': 0.0}\n",
            "Epoch 1, Batch 100, Loss: 1.7824126386642456\n",
            "Epoch 1, Batch 200, Loss: 1.1986960011720658\n",
            "Epoch 1, Batch 300, Loss: 1.1601324772834778\n",
            "Epoch 1, Batch 400, Loss: 1.1268978744745255\n",
            "Epoch 1, Batch 500, Loss: 1.1815487599372865\n",
            "Epoch 1, Batch 600, Loss: 1.0943067663908004\n",
            "Epoch 1, Batch 700, Loss: 1.1163831806182862\n",
            "Epoch 1, Batch 800, Loss: 1.0909939205646515\n",
            "Epoch 1, Batch 900, Loss: 1.0913421934843064\n",
            "Epoch 2, Batch 100, Loss: 1.0942070746421815\n",
            "Epoch 2, Batch 200, Loss: 1.110347604751587\n",
            "Epoch 2, Batch 300, Loss: 1.0407159864902495\n",
            "Epoch 2, Batch 400, Loss: 1.1204942005872727\n",
            "Epoch 2, Batch 500, Loss: 1.0745877039432525\n",
            "Epoch 2, Batch 600, Loss: 1.0914750224351883\n",
            "Epoch 2, Batch 700, Loss: 1.0782464689016342\n",
            "Epoch 2, Batch 800, Loss: 1.089687460064888\n",
            "Epoch 2, Batch 900, Loss: 1.0872495448589325\n",
            "Accuracy:  65 %\n",
            "Topology: [784, 32, 16, 10]\n",
            "Activations: [sigmoid, tanh]\n",
            "Optimizer: adam\n",
            "Params: {'lr': 0.02, 'weight_decay': 0.0}\n",
            "Epoch 1, Batch 100, Loss: 1.6745633006095886\n",
            "Epoch 1, Batch 200, Loss: 0.8114246821403504\n",
            "Epoch 1, Batch 300, Loss: 0.5480451774597168\n",
            "Epoch 1, Batch 400, Loss: 0.4258572354912758\n",
            "Epoch 1, Batch 500, Loss: 0.3805307957530022\n",
            "Epoch 1, Batch 600, Loss: 0.35241480872035025\n",
            "Epoch 1, Batch 700, Loss: 0.31817486077547075\n",
            "Epoch 1, Batch 800, Loss: 0.31092887863516805\n",
            "Epoch 1, Batch 900, Loss: 0.283730009496212\n",
            "Epoch 2, Batch 100, Loss: 0.2493848342448473\n",
            "Epoch 2, Batch 200, Loss: 0.2710148863494396\n",
            "Epoch 2, Batch 300, Loss: 0.24791443213820458\n",
            "Epoch 2, Batch 400, Loss: 0.23354551315307617\n",
            "Epoch 2, Batch 500, Loss: 0.24711202397942544\n",
            "Epoch 2, Batch 600, Loss: 0.21574540346860885\n",
            "Epoch 2, Batch 700, Loss: 0.2157524325698614\n",
            "Epoch 2, Batch 800, Loss: 0.20296908892691135\n",
            "Epoch 2, Batch 900, Loss: 0.2217888980358839\n",
            "Epoch 3, Batch 100, Loss: 0.18960539776831864\n",
            "Epoch 3, Batch 200, Loss: 0.19071287259459496\n",
            "Epoch 3, Batch 300, Loss: 0.17635198788717388\n",
            "Epoch 3, Batch 400, Loss: 0.19485379602760078\n",
            "Epoch 3, Batch 500, Loss: 0.18563243467360735\n",
            "Epoch 3, Batch 600, Loss: 0.18906497078016402\n",
            "Epoch 3, Batch 700, Loss: 0.19022795595228673\n",
            "Epoch 3, Batch 800, Loss: 0.18803133945912123\n",
            "Epoch 3, Batch 900, Loss: 0.18210889127105476\n",
            "Epoch 4, Batch 100, Loss: 0.16432898484170436\n",
            "Epoch 4, Batch 200, Loss: 0.17078831627964974\n",
            "Epoch 4, Batch 300, Loss: 0.18195123622193932\n",
            "Epoch 4, Batch 400, Loss: 0.16956737289205193\n",
            "Epoch 4, Batch 500, Loss: 0.16428275706246495\n",
            "Epoch 4, Batch 600, Loss: 0.16588079053908586\n",
            "Epoch 4, Batch 700, Loss: 0.1658291372656822\n",
            "Epoch 4, Batch 800, Loss: 0.15328412052243948\n",
            "Epoch 4, Batch 900, Loss: 0.17117537200450897\n",
            "Epoch 5, Batch 100, Loss: 0.1417254194431007\n",
            "Epoch 5, Batch 200, Loss: 0.14360914336517452\n",
            "Epoch 5, Batch 300, Loss: 0.14914622031152247\n",
            "Epoch 5, Batch 400, Loss: 0.16455358177423476\n",
            "Epoch 5, Batch 500, Loss: 0.1476514857634902\n",
            "Epoch 5, Batch 600, Loss: 0.13855583289638163\n",
            "Epoch 5, Batch 700, Loss: 0.145793032720685\n",
            "Epoch 5, Batch 800, Loss: 0.1529908748716116\n",
            "Epoch 5, Batch 900, Loss: 0.16361024901270865\n",
            "Epoch 6, Batch 100, Loss: 0.1268345218151808\n",
            "Epoch 6, Batch 200, Loss: 0.15035626104101538\n",
            "Epoch 6, Batch 300, Loss: 0.14945959407836198\n",
            "Epoch 6, Batch 400, Loss: 0.15348164970055223\n",
            "Epoch 6, Batch 500, Loss: 0.14799221407622098\n",
            "Epoch 6, Batch 600, Loss: 0.1365360912680626\n",
            "Epoch 6, Batch 700, Loss: 0.1376292436942458\n",
            "Epoch 6, Batch 800, Loss: 0.1338525833375752\n",
            "Epoch 6, Batch 900, Loss: 0.13754947926849126\n",
            "Epoch 7, Batch 100, Loss: 0.12186634059995413\n",
            "Epoch 7, Batch 200, Loss: 0.14429735170677305\n",
            "Epoch 7, Batch 300, Loss: 0.1404129553027451\n",
            "Epoch 7, Batch 400, Loss: 0.14062925716862082\n",
            "Epoch 7, Batch 500, Loss: 0.12922497636638583\n",
            "Epoch 7, Batch 600, Loss: 0.1476320748217404\n",
            "Epoch 7, Batch 700, Loss: 0.1240609486028552\n",
            "Epoch 7, Batch 800, Loss: 0.11870353977195919\n",
            "Epoch 7, Batch 900, Loss: 0.1229447160102427\n",
            "Epoch 8, Batch 100, Loss: 0.12576037986204028\n",
            "Epoch 8, Batch 200, Loss: 0.12931220008060337\n",
            "Epoch 8, Batch 300, Loss: 0.12962249235250056\n",
            "Epoch 8, Batch 400, Loss: 0.1134462061431259\n",
            "Epoch 8, Batch 500, Loss: 0.12623501888476313\n",
            "Epoch 8, Batch 600, Loss: 0.13124170884490013\n",
            "Epoch 8, Batch 700, Loss: 0.13652594028040765\n",
            "Epoch 8, Batch 800, Loss: 0.11569879850372672\n",
            "Epoch 8, Batch 900, Loss: 0.12398248828947545\n",
            "Epoch 9, Batch 100, Loss: 0.11258358928374947\n",
            "Epoch 9, Batch 200, Loss: 0.1179048733599484\n",
            "Epoch 9, Batch 300, Loss: 0.13271287743002178\n",
            "Epoch 9, Batch 400, Loss: 0.11762960011139512\n",
            "Epoch 9, Batch 500, Loss: 0.1243590284883976\n",
            "Epoch 9, Batch 600, Loss: 0.13163304867222905\n",
            "Epoch 9, Batch 700, Loss: 0.11374370232224465\n",
            "Epoch 9, Batch 800, Loss: 0.12150972472503781\n",
            "Epoch 9, Batch 900, Loss: 0.1231715351715684\n",
            "Epoch 10, Batch 100, Loss: 0.09617270717397332\n",
            "Epoch 10, Batch 200, Loss: 0.12207994148135186\n",
            "Epoch 10, Batch 300, Loss: 0.12386939763091505\n",
            "Epoch 10, Batch 400, Loss: 0.1255627774260938\n",
            "Epoch 10, Batch 500, Loss: 0.11282440407201648\n",
            "Epoch 10, Batch 600, Loss: 0.12511315997689962\n",
            "Epoch 10, Batch 700, Loss: 0.09838629411533475\n",
            "Epoch 10, Batch 800, Loss: 0.11060235598124564\n",
            "Epoch 10, Batch 900, Loss: 0.1264448099397123\n",
            "Accuracy:  95 %\n",
            "Topology: [784, 32, 16, 10]\n",
            "Activations: [sigmoid, tanh]\n",
            "Optimizer: adam\n",
            "Params: {'lr': 0.002, 'weight_decay': 0.0}\n",
            "Epoch 1, Batch 100, Loss: 1.9297627210617065\n",
            "Epoch 1, Batch 200, Loss: 1.671589777469635\n",
            "Epoch 1, Batch 300, Loss: 1.6585070729255675\n",
            "Epoch 1, Batch 400, Loss: 1.6013359725475311\n",
            "Epoch 1, Batch 500, Loss: 1.5743433809280396\n",
            "Epoch 1, Batch 600, Loss: 1.5884771239757538\n",
            "Epoch 1, Batch 700, Loss: 1.5499559330940247\n",
            "Epoch 1, Batch 800, Loss: 1.5516600108146668\n",
            "Epoch 1, Batch 900, Loss: 1.5314679563045501\n",
            "Epoch 2, Batch 100, Loss: 1.5457052886486053\n",
            "Epoch 2, Batch 200, Loss: 1.5290467202663423\n",
            "Epoch 2, Batch 300, Loss: 1.4902660036087036\n",
            "Epoch 2, Batch 400, Loss: 1.557258154153824\n",
            "Epoch 2, Batch 500, Loss: 1.495813845396042\n",
            "Epoch 2, Batch 600, Loss: 1.5012386178970336\n",
            "Epoch 2, Batch 700, Loss: 1.4966299724578858\n",
            "Epoch 2, Batch 800, Loss: 1.5528558659553529\n",
            "Epoch 2, Batch 900, Loss: 1.5160025930404664\n",
            "Epoch 3, Batch 100, Loss: 1.5133940041065217\n",
            "Epoch 3, Batch 200, Loss: 1.504903930425644\n",
            "Epoch 3, Batch 300, Loss: 1.4968306970596315\n",
            "Epoch 3, Batch 400, Loss: 1.4886456251144409\n",
            "Epoch 3, Batch 500, Loss: 1.4814799582958222\n",
            "Epoch 3, Batch 600, Loss: 1.519817010164261\n",
            "Epoch 3, Batch 700, Loss: 1.5154687821865083\n",
            "Epoch 3, Batch 800, Loss: 1.5397957408428191\n",
            "Epoch 3, Batch 900, Loss: 1.4814865803718567\n",
            "Epoch 4, Batch 100, Loss: 1.5186401748657226\n",
            "Epoch 4, Batch 200, Loss: 1.5275802958011626\n",
            "Epoch 4, Batch 300, Loss: 1.4911020994186401\n",
            "Epoch 4, Batch 400, Loss: 1.501115196943283\n",
            "Epoch 4, Batch 500, Loss: 1.5358070015907288\n",
            "Epoch 4, Batch 600, Loss: 1.5452467179298401\n",
            "Epoch 4, Batch 700, Loss: 1.5015770018100738\n",
            "Epoch 4, Batch 800, Loss: 1.5459739661216736\n",
            "Epoch 4, Batch 900, Loss: 1.515214649438858\n",
            "Epoch 5, Batch 100, Loss: 1.484386341571808\n",
            "Epoch 5, Batch 200, Loss: 1.4954304790496826\n",
            "Epoch 5, Batch 300, Loss: 1.5247734522819518\n",
            "Epoch 5, Batch 400, Loss: 1.5346690225601196\n",
            "Epoch 5, Batch 500, Loss: 1.5059738385677337\n",
            "Epoch 5, Batch 600, Loss: 1.516772518157959\n",
            "Epoch 5, Batch 700, Loss: 1.5291590642929078\n",
            "Epoch 5, Batch 800, Loss: 1.4954053139686585\n",
            "Epoch 5, Batch 900, Loss: 1.4879118406772613\n",
            "Epoch 6, Batch 100, Loss: 1.5080528342723847\n",
            "Epoch 6, Batch 200, Loss: 1.4923902094364165\n"
          ]
        },
        {
          "ename": "KeyboardInterrupt",
          "evalue": "",
          "output_type": "error",
          "traceback": [
            "\u001b[0;31m---------------------------------------------------------------------------\u001b[0m",
            "\u001b[0;31mKeyboardInterrupt\u001b[0m                         Traceback (most recent call last)",
            "Cell \u001b[0;32mIn[520], line 33\u001b[0m\n\u001b[1;32m     10\u001b[0m iterate_generator(\u001b[38;5;124m'\u001b[39m\u001b[38;5;124mlr.csv\u001b[39m\u001b[38;5;124m'\u001b[39m,lr_eval,\u001b[38;5;241m2\u001b[39m, train_loader, test_loader, nn\u001b[38;5;241m.\u001b[39mCrossEntropyLoss())\n\u001b[1;32m     12\u001b[0m generator \u001b[38;5;241m=\u001b[39m SequentialTestGenerator(\n\u001b[1;32m     13\u001b[0m     topologies\u001b[38;5;241m=\u001b[39m[\n\u001b[1;32m     14\u001b[0m         \u001b[38;5;66;03m#two layer\u001b[39;00m\n\u001b[0;32m   (...)\u001b[0m\n\u001b[1;32m     30\u001b[0m     }\n\u001b[1;32m     31\u001b[0m )\n\u001b[0;32m---> 33\u001b[0m \u001b[43miterate_generator\u001b[49m\u001b[43m(\u001b[49m\u001b[38;5;124;43m'\u001b[39;49m\u001b[38;5;124;43mresults.csv\u001b[39;49m\u001b[38;5;124;43m'\u001b[39;49m\u001b[43m,\u001b[49m\u001b[43m \u001b[49m\u001b[43mgenerator\u001b[49m\u001b[43m,\u001b[49m\u001b[43m \u001b[49m\u001b[38;5;241;43m10\u001b[39;49m\u001b[43m,\u001b[49m\u001b[43m \u001b[49m\u001b[43mtrain_loader\u001b[49m\u001b[43m,\u001b[49m\u001b[43m \u001b[49m\u001b[43mtest_loader\u001b[49m\u001b[43m,\u001b[49m\u001b[43m \u001b[49m\u001b[43mnn\u001b[49m\u001b[38;5;241;43m.\u001b[39;49m\u001b[43mCrossEntropyLoss\u001b[49m\u001b[43m(\u001b[49m\u001b[43m)\u001b[49m\u001b[43m)\u001b[49m\n\u001b[1;32m     35\u001b[0m \u001b[38;5;66;03m# nn.CrossEntropyLoss()\u001b[39;00m\n",
            "Cell \u001b[0;32mIn[516], line 59\u001b[0m, in \u001b[0;36miterate_generator\u001b[0;34m(output_file, generator, epochs_per_run, train_data_loader, test_data_loader, criterion)\u001b[0m\n\u001b[1;32m     56\u001b[0m optimizer, iter_algo, iter_params \u001b[38;5;241m=\u001b[39m generator\u001b[38;5;241m.\u001b[39mnext_optimizer(model)\n\u001b[1;32m     58\u001b[0m \u001b[38;5;66;03m#Run the evaluation\u001b[39;00m\n\u001b[0;32m---> 59\u001b[0m \u001b[43mrun_evaluation\u001b[49m\u001b[43m(\u001b[49m\u001b[43mmodel\u001b[49m\u001b[43m,\u001b[49m\u001b[43m \u001b[49m\u001b[43moptimizer\u001b[49m\u001b[43m,\u001b[49m\u001b[43m \u001b[49m\u001b[43mcriterion\u001b[49m\u001b[43m,\u001b[49m\u001b[43m \u001b[49m\u001b[43mepochs_per_run\u001b[49m\u001b[43m,\u001b[49m\u001b[43m \u001b[49m\u001b[43mtrain_data_loader\u001b[49m\u001b[43m,\u001b[49m\u001b[43m \u001b[49m\u001b[43mtest_data_loader\u001b[49m\u001b[43m,\u001b[49m\u001b[43m \u001b[49m\u001b[43miter_topology\u001b[49m\u001b[43m,\u001b[49m\u001b[43m \u001b[49m\u001b[43miter_activations\u001b[49m\u001b[43m,\u001b[49m\u001b[43m \u001b[49m\u001b[43miter_algo\u001b[49m\u001b[43m,\u001b[49m\u001b[43m \u001b[49m\u001b[43miter_params\u001b[49m\u001b[43m,\u001b[49m\u001b[43m \u001b[49m\u001b[43moutput_file\u001b[49m\u001b[43m)\u001b[49m\n\u001b[1;32m     61\u001b[0m \u001b[38;5;66;03m#Iterate to the next optimizer\u001b[39;00m\n\u001b[1;32m     62\u001b[0m generator\u001b[38;5;241m.\u001b[39miterate_optimizer()\n",
            "Cell \u001b[0;32mIn[516], line 6\u001b[0m, in \u001b[0;36mrun_evaluation\u001b[0;34m(model, optimizer, criterion, num_epochs, train_data_loader, test_data_loader, topology, activations, algo, params, output_file)\u001b[0m\n\u001b[1;32m      4\u001b[0m model\u001b[38;5;241m.\u001b[39mtrain()\n\u001b[1;32m      5\u001b[0m running_loss \u001b[38;5;241m=\u001b[39m \u001b[38;5;241m0.0\u001b[39m\n\u001b[0;32m----> 6\u001b[0m \u001b[38;5;28;01mfor\u001b[39;00m i, data \u001b[38;5;129;01min\u001b[39;00m \u001b[38;5;28menumerate\u001b[39m(train_data_loader, \u001b[38;5;241m0\u001b[39m):\n\u001b[1;32m      7\u001b[0m     inputs, labels \u001b[38;5;241m=\u001b[39m data\n\u001b[1;32m      8\u001b[0m     optimizer\u001b[38;5;241m.\u001b[39mzero_grad()\n",
            "File \u001b[0;32m~/.pyenv/versions/3.10.15/envs/MLExp/lib/python3.10/site-packages/torch/utils/data/dataloader.py:630\u001b[0m, in \u001b[0;36m_BaseDataLoaderIter.__next__\u001b[0;34m(self)\u001b[0m\n\u001b[1;32m    627\u001b[0m \u001b[38;5;28;01mif\u001b[39;00m \u001b[38;5;28mself\u001b[39m\u001b[38;5;241m.\u001b[39m_sampler_iter \u001b[38;5;129;01mis\u001b[39;00m \u001b[38;5;28;01mNone\u001b[39;00m:\n\u001b[1;32m    628\u001b[0m     \u001b[38;5;66;03m# TODO(https://github.com/pytorch/pytorch/issues/76750)\u001b[39;00m\n\u001b[1;32m    629\u001b[0m     \u001b[38;5;28mself\u001b[39m\u001b[38;5;241m.\u001b[39m_reset()  \u001b[38;5;66;03m# type: ignore[call-arg]\u001b[39;00m\n\u001b[0;32m--> 630\u001b[0m data \u001b[38;5;241m=\u001b[39m \u001b[38;5;28;43mself\u001b[39;49m\u001b[38;5;241;43m.\u001b[39;49m\u001b[43m_next_data\u001b[49m\u001b[43m(\u001b[49m\u001b[43m)\u001b[49m\n\u001b[1;32m    631\u001b[0m \u001b[38;5;28mself\u001b[39m\u001b[38;5;241m.\u001b[39m_num_yielded \u001b[38;5;241m+\u001b[39m\u001b[38;5;241m=\u001b[39m \u001b[38;5;241m1\u001b[39m\n\u001b[1;32m    632\u001b[0m \u001b[38;5;28;01mif\u001b[39;00m \u001b[38;5;28mself\u001b[39m\u001b[38;5;241m.\u001b[39m_dataset_kind \u001b[38;5;241m==\u001b[39m _DatasetKind\u001b[38;5;241m.\u001b[39mIterable \u001b[38;5;129;01mand\u001b[39;00m \\\n\u001b[1;32m    633\u001b[0m         \u001b[38;5;28mself\u001b[39m\u001b[38;5;241m.\u001b[39m_IterableDataset_len_called \u001b[38;5;129;01mis\u001b[39;00m \u001b[38;5;129;01mnot\u001b[39;00m \u001b[38;5;28;01mNone\u001b[39;00m \u001b[38;5;129;01mand\u001b[39;00m \\\n\u001b[1;32m    634\u001b[0m         \u001b[38;5;28mself\u001b[39m\u001b[38;5;241m.\u001b[39m_num_yielded \u001b[38;5;241m>\u001b[39m \u001b[38;5;28mself\u001b[39m\u001b[38;5;241m.\u001b[39m_IterableDataset_len_called:\n",
            "File \u001b[0;32m~/.pyenv/versions/3.10.15/envs/MLExp/lib/python3.10/site-packages/torch/utils/data/dataloader.py:673\u001b[0m, in \u001b[0;36m_SingleProcessDataLoaderIter._next_data\u001b[0;34m(self)\u001b[0m\n\u001b[1;32m    671\u001b[0m \u001b[38;5;28;01mdef\u001b[39;00m \u001b[38;5;21m_next_data\u001b[39m(\u001b[38;5;28mself\u001b[39m):\n\u001b[1;32m    672\u001b[0m     index \u001b[38;5;241m=\u001b[39m \u001b[38;5;28mself\u001b[39m\u001b[38;5;241m.\u001b[39m_next_index()  \u001b[38;5;66;03m# may raise StopIteration\u001b[39;00m\n\u001b[0;32m--> 673\u001b[0m     data \u001b[38;5;241m=\u001b[39m \u001b[38;5;28;43mself\u001b[39;49m\u001b[38;5;241;43m.\u001b[39;49m\u001b[43m_dataset_fetcher\u001b[49m\u001b[38;5;241;43m.\u001b[39;49m\u001b[43mfetch\u001b[49m\u001b[43m(\u001b[49m\u001b[43mindex\u001b[49m\u001b[43m)\u001b[49m  \u001b[38;5;66;03m# may raise StopIteration\u001b[39;00m\n\u001b[1;32m    674\u001b[0m     \u001b[38;5;28;01mif\u001b[39;00m \u001b[38;5;28mself\u001b[39m\u001b[38;5;241m.\u001b[39m_pin_memory:\n\u001b[1;32m    675\u001b[0m         data \u001b[38;5;241m=\u001b[39m _utils\u001b[38;5;241m.\u001b[39mpin_memory\u001b[38;5;241m.\u001b[39mpin_memory(data, \u001b[38;5;28mself\u001b[39m\u001b[38;5;241m.\u001b[39m_pin_memory_device)\n",
            "File \u001b[0;32m~/.pyenv/versions/3.10.15/envs/MLExp/lib/python3.10/site-packages/torch/utils/data/_utils/fetch.py:52\u001b[0m, in \u001b[0;36m_MapDatasetFetcher.fetch\u001b[0;34m(self, possibly_batched_index)\u001b[0m\n\u001b[1;32m     50\u001b[0m         data \u001b[38;5;241m=\u001b[39m \u001b[38;5;28mself\u001b[39m\u001b[38;5;241m.\u001b[39mdataset\u001b[38;5;241m.\u001b[39m__getitems__(possibly_batched_index)\n\u001b[1;32m     51\u001b[0m     \u001b[38;5;28;01melse\u001b[39;00m:\n\u001b[0;32m---> 52\u001b[0m         data \u001b[38;5;241m=\u001b[39m [\u001b[38;5;28mself\u001b[39m\u001b[38;5;241m.\u001b[39mdataset[idx] \u001b[38;5;28;01mfor\u001b[39;00m idx \u001b[38;5;129;01min\u001b[39;00m possibly_batched_index]\n\u001b[1;32m     53\u001b[0m \u001b[38;5;28;01melse\u001b[39;00m:\n\u001b[1;32m     54\u001b[0m     data \u001b[38;5;241m=\u001b[39m \u001b[38;5;28mself\u001b[39m\u001b[38;5;241m.\u001b[39mdataset[possibly_batched_index]\n",
            "File \u001b[0;32m~/.pyenv/versions/3.10.15/envs/MLExp/lib/python3.10/site-packages/torch/utils/data/_utils/fetch.py:52\u001b[0m, in \u001b[0;36m<listcomp>\u001b[0;34m(.0)\u001b[0m\n\u001b[1;32m     50\u001b[0m         data \u001b[38;5;241m=\u001b[39m \u001b[38;5;28mself\u001b[39m\u001b[38;5;241m.\u001b[39mdataset\u001b[38;5;241m.\u001b[39m__getitems__(possibly_batched_index)\n\u001b[1;32m     51\u001b[0m     \u001b[38;5;28;01melse\u001b[39;00m:\n\u001b[0;32m---> 52\u001b[0m         data \u001b[38;5;241m=\u001b[39m [\u001b[38;5;28;43mself\u001b[39;49m\u001b[38;5;241;43m.\u001b[39;49m\u001b[43mdataset\u001b[49m\u001b[43m[\u001b[49m\u001b[43midx\u001b[49m\u001b[43m]\u001b[49m \u001b[38;5;28;01mfor\u001b[39;00m idx \u001b[38;5;129;01min\u001b[39;00m possibly_batched_index]\n\u001b[1;32m     53\u001b[0m \u001b[38;5;28;01melse\u001b[39;00m:\n\u001b[1;32m     54\u001b[0m     data \u001b[38;5;241m=\u001b[39m \u001b[38;5;28mself\u001b[39m\u001b[38;5;241m.\u001b[39mdataset[possibly_batched_index]\n",
            "File \u001b[0;32m~/.pyenv/versions/3.10.15/envs/MLExp/lib/python3.10/site-packages/torchvision/datasets/mnist.py:143\u001b[0m, in \u001b[0;36mMNIST.__getitem__\u001b[0;34m(self, index)\u001b[0m\n\u001b[1;32m    139\u001b[0m img, target \u001b[38;5;241m=\u001b[39m \u001b[38;5;28mself\u001b[39m\u001b[38;5;241m.\u001b[39mdata[index], \u001b[38;5;28mint\u001b[39m(\u001b[38;5;28mself\u001b[39m\u001b[38;5;241m.\u001b[39mtargets[index])\n\u001b[1;32m    141\u001b[0m \u001b[38;5;66;03m# doing this so that it is consistent with all other datasets\u001b[39;00m\n\u001b[1;32m    142\u001b[0m \u001b[38;5;66;03m# to return a PIL Image\u001b[39;00m\n\u001b[0;32m--> 143\u001b[0m img \u001b[38;5;241m=\u001b[39m \u001b[43mImage\u001b[49m\u001b[38;5;241;43m.\u001b[39;49m\u001b[43mfromarray\u001b[49m\u001b[43m(\u001b[49m\u001b[43mimg\u001b[49m\u001b[38;5;241;43m.\u001b[39;49m\u001b[43mnumpy\u001b[49m\u001b[43m(\u001b[49m\u001b[43m)\u001b[49m\u001b[43m,\u001b[49m\u001b[43m \u001b[49m\u001b[43mmode\u001b[49m\u001b[38;5;241;43m=\u001b[39;49m\u001b[38;5;124;43m\"\u001b[39;49m\u001b[38;5;124;43mL\u001b[39;49m\u001b[38;5;124;43m\"\u001b[39;49m\u001b[43m)\u001b[49m\n\u001b[1;32m    145\u001b[0m \u001b[38;5;28;01mif\u001b[39;00m \u001b[38;5;28mself\u001b[39m\u001b[38;5;241m.\u001b[39mtransform \u001b[38;5;129;01mis\u001b[39;00m \u001b[38;5;129;01mnot\u001b[39;00m \u001b[38;5;28;01mNone\u001b[39;00m:\n\u001b[1;32m    146\u001b[0m     img \u001b[38;5;241m=\u001b[39m \u001b[38;5;28mself\u001b[39m\u001b[38;5;241m.\u001b[39mtransform(img)\n",
            "File \u001b[0;32m~/.pyenv/versions/3.10.15/envs/MLExp/lib/python3.10/site-packages/PIL/Image.py:3269\u001b[0m, in \u001b[0;36mfromarray\u001b[0;34m(obj, mode)\u001b[0m\n\u001b[1;32m   3267\u001b[0m shape \u001b[38;5;241m=\u001b[39m arr[\u001b[38;5;124m\"\u001b[39m\u001b[38;5;124mshape\u001b[39m\u001b[38;5;124m\"\u001b[39m]\n\u001b[1;32m   3268\u001b[0m ndim \u001b[38;5;241m=\u001b[39m \u001b[38;5;28mlen\u001b[39m(shape)\n\u001b[0;32m-> 3269\u001b[0m strides \u001b[38;5;241m=\u001b[39m \u001b[43marr\u001b[49m\u001b[38;5;241;43m.\u001b[39;49m\u001b[43mget\u001b[49m\u001b[43m(\u001b[49m\u001b[38;5;124;43m\"\u001b[39;49m\u001b[38;5;124;43mstrides\u001b[39;49m\u001b[38;5;124;43m\"\u001b[39;49m\u001b[43m,\u001b[49m\u001b[43m \u001b[49m\u001b[38;5;28;43;01mNone\u001b[39;49;00m\u001b[43m)\u001b[49m\n\u001b[1;32m   3270\u001b[0m \u001b[38;5;28;01mif\u001b[39;00m mode \u001b[38;5;129;01mis\u001b[39;00m \u001b[38;5;28;01mNone\u001b[39;00m:\n\u001b[1;32m   3271\u001b[0m     \u001b[38;5;28;01mtry\u001b[39;00m:\n",
            "\u001b[0;31mKeyboardInterrupt\u001b[0m: "
          ]
        }
      ],
      "source": [
        "lr_eval = SequentialTestGenerator(\n",
        "    topologies=[\n",
        "        [[784,32,16,10],[torch.sigmoid, torch.tanh]]\n",
        "    ],\n",
        "    optimizer_params={\n",
        "        'adam': {'lr': [0.001,0.002,0.004,0.008,0.01,0.02], 'weight_decay': [0.0]},\n",
        "    }\n",
        ")\n",
        "\n",
        "iterate_generator('lr.csv',lr_eval,50, train_loader, test_loader, nn.CrossEntropyLoss())\n",
        "\n",
        "generator = SequentialTestGenerator(\n",
        "    topologies=[\n",
        "        #two layer\n",
        "        [[784, 32, 16, 10],[torch.sigmoid, torch.tanh]],\n",
        "        [[784, 32, 16, 10],[torch.sigmoid, torch.relu]],\n",
        "        [[784, 28, 28, 10],[torch.sigmoid, torch.tanh]],\n",
        "        [[784, 28, 28, 10],[torch.sigmoid, torch.relu]],\n",
        "        [[784, 64, 32, 10],[torch.sigmoid, torch.tanh]],\n",
        "        [[784, 64, 32, 10],[torch.sigmoid, torch.relu]],\n",
        "        #three layer\n",
        "        [[784, 64, 32, 16, 10],[torch.sigmoid, torch.sigmoid, torch.tanh]],\n",
        "        [[784, 64, 32, 16, 10],[torch.relu, torch.sigmoid, torch.tanh]],\n",
        "        [[784, 28, 28, 28, 10],[torch.sigmoid, torch.sigmoid, torch.tanh]],\n",
        "        [[784, 28, 28, 28, 10],[torch.relu, torch.sigmoid, torch.tanh]],\n",
        "        #four layer\n",
        "        [[784, 64, 32, 16, 8, 10],[torch.sigmoid, torch.sigmoid, torch.tanh, torch.tanh]],\n",
        "        [[784, 64, 32, 16, 8, 10],[torch.relu, torch.sigmoid, torch.tanh, torch.tanh]],\n",
        "        [[784, 64, 32, 16, 8, 10],[torch.relu, torch.sigmoid, torch.tanh, torch.relu]],\n",
        "        [[784, 28, 28, 28, 28, 10],[torch.sigmoid, torch.sigmoid, torch.tanh, torch.tanh]],\n",
        "        [[784, 28, 28, 28, 28, 10],[torch.relu, torch.sigmoid, torch.tanh, torch.tanh]],\n",
        "        [[784, 28, 28, 28, 28, 10],[torch.relu, torch.sigmoid, torch.tanh, torch.relu]],\n",
        "    ],\n",
        "    optimizer_params={\n",
        "        'adam': {'lr': [0.002, 0.02], 'weight_decay': [0.0, 0.001]},\n",
        "        'sgd': {'lr': [0.001, 0.01], 'momentum': [0.5, 0.1], 'weight_decay': [0.0, 0.001]},\n",
        "        'asgd': {'lr': [0.01, 0.02], 'weight_decay': [0.0, 0.001]}\n",
        "    }\n",
        ")\n",
        "\n",
        "iterate_generator('results.csv', generator, 25, train_loader, test_loader, nn.CrossEntropyLoss())\n",
        "\n",
        "# nn.CrossEntropyLoss()\n",
        "\n"
      ]
    },
    {
      "cell_type": "code",
      "execution_count": 269,
      "metadata": {
        "colab": {
          "base_uri": "https://localhost:8080/"
        },
        "id": "TfYr_0XlT-Cb",
        "outputId": "e298b73f-543d-49a6-dbf5-b3c0099fae75"
      },
      "outputs": [
        {
          "name": "stdout",
          "output_type": "stream",
          "text": [
            "Accuracy on test set: 92.55%\n"
          ]
        }
      ],
      "source": [
        "# Evaluating the model\n",
        "model.eval()\n",
        "correct = 0\n",
        "total = 0\n",
        "with torch.no_grad():\n",
        "    for data in test_loader:\n",
        "        images, labels = data\n",
        "        outputs = model(images)\n",
        "        _, predicted = torch.max(outputs.data, 1)\n",
        "        total += labels.size(0)\n",
        "        correct += (predicted == labels).sum().item()\n",
        "\n",
        "print(f'Accuracy on test set: { 100*(correct / total)}%')"
      ]
    },
    {
      "cell_type": "code",
      "execution_count": 270,
      "metadata": {
        "colab": {
          "base_uri": "https://localhost:8080/",
          "height": 428
        },
        "id": "kNM8-ijzUE9w",
        "outputId": "a07af0ed-e731-461f-d8c1-35750b29394c"
      },
      "outputs": [
        {
          "data": {
            "image/png": "[encoded data removed]",
            "text/plain": [
              "<Figure size 640x480 with 1 Axes>"
            ]
          },
          "metadata": {},
          "output_type": "display_data"
        }
      ],
      "source": [
        "image_index = 27\n",
        "test_image, test_label = test_dataset[image_index]\n",
        "\n",
        "with torch.no_grad():\n",
        "    model.eval()\n",
        "    output = model(test_image.unsqueeze(0))\n",
        "    _, predicted_label = torch.max(output, 1)\n",
        "\n",
        "test_image_numpy = test_image.squeeze().numpy()\n",
        "\n",
        "plt.imshow(test_image_numpy, cmap='gray')\n",
        "plt.title(f'Predicted Label: {predicted_label.item()}, Actual Label: {test_label}')\n",
        "plt.axis('off')\n",
        "plt.show()"
      ]
    },
    {
      "cell_type": "markdown",
      "metadata": {
        "id": "FoypxOXgGjuC"
      },
      "source": [
        "Notes for Part 1\n",
        "\n",
        "1. Activation fucntion:\n",
        "\n",
        "class Net(torch.nn.Module):\n",
        "    def __init__(self):\n",
        "        super(Net, self).__init__()\n",
        "        self.fc1 = torch.nn.Linear(28*28, 128)\n",
        "        self.fc2 = torch.nn.Linear(128, 64)\n",
        "        self.fc3 = torch.nn.Linear(64, 10)\n",
        "\n",
        "    def forward(self, x):\n",
        "        x = x.view(-1, 28*28)\n",
        "        x = torch.relu(self.fc1(x))  # Change activation function here\n",
        "        x = torch.relu(self.fc2(x))\n",
        "        x = self.fc3(x)\n",
        "        return x\n",
        "\n",
        "2. loss function and optimizer\n",
        "\n",
        "model = Net()\n",
        "criterion = torch.nn.CrossEntropyLoss()  # Change loss function\n",
        "optimizer = torch.optim.Adam(model.parameters(), lr=0.001)\n",
        "\n",
        "3. ~adding a dropout layer\n",
        "\n",
        "class Net(torch.nn.Module):\n",
        "    def __init__(self):\n",
        "        super(Net, self).__init__()\n",
        "        self.fc1 = torch.nn.Linear(28*28, 128)\n",
        "        self.dropout = torch.nn.Dropout(0.2)  # Add a Dropout layer here\n",
        "        self.fc2 = torch.nn.Linear(128, 64)\n",
        "        self.fc3 = torch.nn.Linear(64, 10)\n",
        "\n",
        "    def forward(self, x):\n",
        "        x = x.view(-1, 28*28)\n",
        "        x = torch.relu(self.fc1(x))\n",
        "        x = self.dropout(x)  # Apply Dropout\n",
        "        x = torch.relu(self.fc2(x))\n",
        "        x = self.fc3(x)\n",
        "        return x\n",
        "\n",
        "4. model configurations / epochs\n",
        "\n",
        "epochs = 10  # Change number of epochs\n",
        "for epoch in range(epochs):\n",
        "    # Training loop\n",
        "    for i, data in enumerate(train_loader, 0):\n",
        "        # Training steps"
      ]
    },
    {
      "cell_type": "markdown",
      "metadata": {
        "id": "L3IIK5kzHGH0"
      },
      "source": [
        "## Task - 2\n",
        "\n",
        "### PyTorch FC ANN FMNIST Implementation\n"
      ]
    },
    {
      "cell_type": "code",
      "execution_count": 10,
      "metadata": {
        "id": "_aWMlQ33ByRO"
      },
      "outputs": [],
      "source": [
        "import torch\n",
        "import torch.nn as nn\n",
        "import torch.optim as optim\n",
        "import torchvision\n",
        "import torchvision.transforms as transforms\n",
        "from torch.utils.data import DataLoader\n",
        "import matplotlib.pyplot as plt"
      ]
    },
    {
      "cell_type": "code",
      "execution_count": 11,
      "metadata": {
        "id": "jOCzfnBvB_bQ"
      },
      "outputs": [],
      "source": [
        "# Transformations --> this is a \"pre-processing step\" that's typical for image processing methods\n",
        "transform = transforms.Compose([\n",
        "    transforms.ToTensor(),  # Convert PIL image or numpy.ndarray to tensor\n",
        "    transforms.Normalize((0.5,), (0.5,))  # Normalize data to range [-1, 1]\n",
        "])\n",
        "# This dataset is already \"sorted\" as part of the import method, but no \"validation\" set has been selected in this case\n",
        "# Loading the FashionMNIST dataset\n",
        "train_dataset = torchvision.datasets.FashionMNIST(root='./data', train=True, download=True, transform=transform)\n",
        "test_dataset = torchvision.datasets.FashionMNIST(root='./data', train=False, download=True, transform=transform)\n",
        "\n",
        "# Training and Testing loaders\n",
        "train_loader = torch.utils.data.DataLoader(train_dataset, batch_size=64, shuffle=True)\n",
        "test_loader = torch.utils.data.DataLoader(test_dataset, batch_size=64, shuffle=False)"
      ]
    },
    {
      "cell_type": "code",
      "execution_count": 12,
      "metadata": {
        "id": "jZk_FS9JCLOH"
      },
      "outputs": [],
      "source": [
        "# Mapping the labels for the MNIST dataset -- later we'll see that this using the \"keras to_categorical\" method as discussed in class\n",
        "labels_map = {\n",
        "    0: \"0\", 1: \"1\", 2: \"2\", 3: \"3\", 4: \"4\",\n",
        "    5: \"5\", 6: \"6\", 7: \"7\", 8: \"8\", 9: \"9\"\n",
        "}"
      ]
    },
    {
      "cell_type": "code",
      "execution_count": 13,
      "metadata": {
        "colab": {
          "base_uri": "https://localhost:8080/",
          "height": 675
        },
        "id": "ykrRIGSdCMu5",
        "outputId": "a6737577-19d7-459e-aa83-ccebed56246c"
      },
      "outputs": [
        {
          "data": {
            "image/png": "[encoded data removed]",
            "text/plain": [
              "<Figure size 800x800 with 9 Axes>"
            ]
          },
          "metadata": {},
          "output_type": "display_data"
        }
      ],
      "source": [
        "#This cell is designed to display a few images from the dataset\n",
        "#It isn't necessary to run this, but it can help give a better idea of the challanges your model will face\n",
        "figure = plt.figure(figsize=(8, 8))\n",
        "cols, rows = 3, 3\n",
        "\n",
        "# Displaying figures from the dataset randomly\n",
        "for i in range(1, cols * rows + 1):\n",
        "    sample_idx = torch.randint(len(train_dataset), size=(1,)).item()\n",
        "    img, label = train_dataset[sample_idx]\n",
        "    figure.add_subplot(rows, cols, i)\n",
        "    plt.title(labels_map[label])\n",
        "    plt.axis(\"off\")\n",
        "    plt.imshow(img.squeeze(), cmap=\"gray\")\n",
        "plt.show()"
      ]
    },
    {
      "cell_type": "code",
      "execution_count": 14,
      "metadata": {
        "id": "3JLJ0ZFCER5m"
      },
      "outputs": [],
      "source": [
        "#Here we define the model parameters -- the general strucutre as provided here will produce a fully connected network [28x28] --> 32 --> 16 --> 10\n",
        "class MLP(nn.Module): #MLP stands for \"Multi-Layer Perceptron\"\n",
        "    def __init__(self): #this initializes the structure of the network\n",
        "        super(MLP, self).__init__()\n",
        "        self.fc1 = nn.Linear(28 * 28, 32) ## First fully connected linear layer, 28*28 input features and 32 outputs\n",
        "        self.fc2 = nn.Linear(32 , 16) ## Second fully connected linear layer, 32 inputs and 16 outputs\n",
        "        self.fc3 = nn.Linear(16, 10) ## 10 output features because MNIST has 10 target classes\n",
        "\n",
        "    def forward(self, x): #this modifies the elements of the intial structure defined above\n",
        "        x = x.view(-1, 28 * 28) #the array is sent in as a vector\n",
        "        x = torch.sigmoid(self.fc1(x)) ## Applying sigmoid activation for the first layer\n",
        "        x = torch.tanh(self.fc2(x)) ## Applying tanh activation for the second layer\n",
        "        x = self.fc3(x) ## no modifications to the activation of the output layer\n",
        "        return x\n",
        "\n",
        "# Initializing the neural network\n",
        "model = MLP()"
      ]
    },
    {
      "cell_type": "code",
      "execution_count": 15,
      "metadata": {
        "colab": {
          "base_uri": "https://localhost:8080/"
        },
        "id": "2hFOEXCPEVTw",
        "outputId": "6c4d33e6-8624-4eae-d51b-7008e6826780"
      },
      "outputs": [
        {
          "name": "stdout",
          "output_type": "stream",
          "text": [
            "Epoch 1, Batch 100, Loss: 2.3076939606666564\n",
            "Epoch 1, Batch 200, Loss: 2.2964122533798217\n",
            "Epoch 1, Batch 300, Loss: 2.283242826461792\n",
            "Epoch 1, Batch 400, Loss: 2.2733342361450197\n",
            "Epoch 1, Batch 500, Loss: 2.260932538509369\n",
            "Epoch 1, Batch 600, Loss: 2.2505964970588686\n",
            "Epoch 1, Batch 700, Loss: 2.239789249897003\n",
            "Epoch 1, Batch 800, Loss: 2.226941957473755\n",
            "Epoch 1, Batch 900, Loss: 2.211233465671539\n",
            "Epoch 2, Batch 100, Loss: 2.190563213825226\n",
            "Epoch 2, Batch 200, Loss: 2.176533591747284\n",
            "Epoch 2, Batch 300, Loss: 2.1595369601249694\n",
            "Epoch 2, Batch 400, Loss: 2.1390220952033996\n",
            "Epoch 2, Batch 500, Loss: 2.1246925830841064\n",
            "Epoch 2, Batch 600, Loss: 2.1038536286354064\n",
            "Epoch 2, Batch 700, Loss: 2.082137269973755\n",
            "Epoch 2, Batch 800, Loss: 2.0612794518470765\n",
            "Epoch 2, Batch 900, Loss: 2.042286524772644\n",
            "Epoch 3, Batch 100, Loss: 2.0021821641921997\n",
            "Epoch 3, Batch 200, Loss: 1.9823235082626343\n",
            "Epoch 3, Batch 300, Loss: 1.9635089230537415\n",
            "Epoch 3, Batch 400, Loss: 1.9351388883590699\n",
            "Epoch 3, Batch 500, Loss: 1.8960629653930665\n",
            "Epoch 3, Batch 600, Loss: 1.8779389011859893\n",
            "Epoch 3, Batch 700, Loss: 1.8577709782123566\n",
            "Epoch 3, Batch 800, Loss: 1.831951322555542\n",
            "Epoch 3, Batch 900, Loss: 1.809152752161026\n",
            "Epoch 4, Batch 100, Loss: 1.775564694404602\n",
            "Epoch 4, Batch 200, Loss: 1.7517645466327667\n",
            "Epoch 4, Batch 300, Loss: 1.7307748794555664\n",
            "Epoch 4, Batch 400, Loss: 1.705103542804718\n",
            "Epoch 4, Batch 500, Loss: 1.688017382621765\n",
            "Epoch 4, Batch 600, Loss: 1.6638209569454192\n",
            "Epoch 4, Batch 700, Loss: 1.6550491559505462\n",
            "Epoch 4, Batch 800, Loss: 1.6286163318157196\n",
            "Epoch 4, Batch 900, Loss: 1.6137325847148896\n",
            "Epoch 5, Batch 100, Loss: 1.5913103723526\n",
            "Epoch 5, Batch 200, Loss: 1.5662185955047607\n",
            "Epoch 5, Batch 300, Loss: 1.5531344091892243\n",
            "Epoch 5, Batch 400, Loss: 1.5462597942352294\n",
            "Epoch 5, Batch 500, Loss: 1.5273258531093596\n",
            "Epoch 5, Batch 600, Loss: 1.5072660219669343\n",
            "Epoch 5, Batch 700, Loss: 1.4946460902690888\n",
            "Epoch 5, Batch 800, Loss: 1.478904435634613\n",
            "Epoch 5, Batch 900, Loss: 1.4691534054279327\n",
            "Epoch 6, Batch 100, Loss: 1.451450947523117\n",
            "Epoch 6, Batch 200, Loss: 1.4404398143291473\n",
            "Epoch 6, Batch 300, Loss: 1.4138830065727235\n",
            "Epoch 6, Batch 400, Loss: 1.4139169144630432\n",
            "Epoch 6, Batch 500, Loss: 1.3996974861621856\n",
            "Epoch 6, Batch 600, Loss: 1.3946517741680144\n",
            "Epoch 6, Batch 700, Loss: 1.3719034254550935\n",
            "Epoch 6, Batch 800, Loss: 1.3637009072303772\n",
            "Epoch 6, Batch 900, Loss: 1.3497490918636321\n",
            "Epoch 7, Batch 100, Loss: 1.3403599631786347\n",
            "Epoch 7, Batch 200, Loss: 1.3296659946441651\n",
            "Epoch 7, Batch 300, Loss: 1.3129628944396972\n",
            "Epoch 7, Batch 400, Loss: 1.3071974265575408\n",
            "Epoch 7, Batch 500, Loss: 1.300282496213913\n",
            "Epoch 7, Batch 600, Loss: 1.291931470632553\n",
            "Epoch 7, Batch 700, Loss: 1.277839721441269\n",
            "Epoch 7, Batch 800, Loss: 1.2581574380397798\n",
            "Epoch 7, Batch 900, Loss: 1.267788008451462\n",
            "Epoch 8, Batch 100, Loss: 1.2574964785575866\n",
            "Epoch 8, Batch 200, Loss: 1.2280636620521546\n",
            "Epoch 8, Batch 300, Loss: 1.2275899374485015\n",
            "Epoch 8, Batch 400, Loss: 1.2262526142597199\n",
            "Epoch 8, Batch 500, Loss: 1.2103733336925506\n",
            "Epoch 8, Batch 600, Loss: 1.216845862865448\n",
            "Epoch 8, Batch 700, Loss: 1.1956938576698304\n",
            "Epoch 8, Batch 800, Loss: 1.1875049471855164\n",
            "Epoch 8, Batch 900, Loss: 1.1772031939029695\n",
            "Epoch 9, Batch 100, Loss: 1.175100063085556\n",
            "Epoch 9, Batch 200, Loss: 1.1748727405071258\n",
            "Epoch 9, Batch 300, Loss: 1.1470557355880737\n",
            "Epoch 9, Batch 400, Loss: 1.1414942359924316\n",
            "Epoch 9, Batch 500, Loss: 1.1289411848783493\n",
            "Epoch 9, Batch 600, Loss: 1.1431044352054596\n",
            "Epoch 9, Batch 700, Loss: 1.1371096807718277\n",
            "Epoch 9, Batch 800, Loss: 1.1286362504959107\n",
            "Epoch 9, Batch 900, Loss: 1.1134078299999237\n",
            "Finished Training\n"
          ]
        }
      ],
      "source": [
        "# Loss function and optimizer\n",
        "criterion = nn.CrossEntropyLoss()\n",
        "optimizer = optim.SGD(model.parameters(), lr=0.002)\n",
        "\n",
        "# Training the neural network\n",
        "num_epochs = 9\n",
        "for epoch in range(num_epochs):\n",
        "    model.train()\n",
        "    running_loss = 0.0\n",
        "    for i, data in enumerate(train_loader, 0):\n",
        "        inputs, labels = data\n",
        "        optimizer.zero_grad()\n",
        "        outputs = model(inputs)\n",
        "        loss = criterion(outputs, labels)\n",
        "        loss.backward()\n",
        "        optimizer.step()\n",
        "        running_loss += loss.item()\n",
        "        if i % 100 == 99:  # print every 100 mini-batches\n",
        "            print(f'Epoch {epoch + 1}, Batch {i + 1}, Loss: {running_loss / 100}')\n",
        "            running_loss = 0.0\n",
        "\n",
        "print('Finished Training')"
      ]
    },
    {
      "cell_type": "code",
      "execution_count": 16,
      "metadata": {
        "colab": {
          "base_uri": "https://localhost:8080/"
        },
        "id": "RNMCpk60EaXr",
        "outputId": "c8ffbf3e-bd21-4e29-8428-8405792a0d9a"
      },
      "outputs": [
        {
          "name": "stdout",
          "output_type": "stream",
          "text": [
            "Accuracy on test set: 0.6207%\n"
          ]
        }
      ],
      "source": [
        "# Evaluating the model\n",
        "model.eval()\n",
        "correct = 0\n",
        "total = 0\n",
        "with torch.no_grad():\n",
        "    for data in test_loader:\n",
        "        images, labels = data\n",
        "        outputs = model(images)\n",
        "        _, predicted = torch.max(outputs.data, 1)\n",
        "        total += labels.size(0)\n",
        "        correct += (predicted == labels).sum().item()\n",
        "\n",
        "print(f'Accuracy on test set: { correct / total}%')"
      ]
    },
    {
      "cell_type": "code",
      "execution_count": 17,
      "metadata": {
        "colab": {
          "base_uri": "https://localhost:8080/",
          "height": 428
        },
        "id": "J2GkmLeQEeZV",
        "outputId": "cb5bae66-d3d2-4163-deef-5828aad6b068"
      },
      "outputs": [
        {
          "data": {
            "image/png": "[encoded data removed]",
            "text/plain": [
              "<Figure size 640x480 with 1 Axes>"
            ]
          },
          "metadata": {},
          "output_type": "display_data"
        }
      ],
      "source": [
        "image_index = 27\n",
        "test_image, test_label = test_dataset[image_index]\n",
        "\n",
        "with torch.no_grad():\n",
        "    model.eval()\n",
        "    output = model(test_image.unsqueeze(0))\n",
        "    _, predicted_label = torch.max(output, 1)\n",
        "\n",
        "test_image_numpy = test_image.squeeze().numpy()\n",
        "\n",
        "plt.imshow(test_image_numpy, cmap='gray')\n",
        "plt.title(f'Predicted Label: {predicted_label.item()}, Actual Label: {test_label}')\n",
        "plt.axis('off')\n",
        "plt.show()"
      ]
    },
    {
      "cell_type": "markdown",
      "metadata": {
        "id": "K5nxrEoAHAUX"
      },
      "source": [
        "## PART - 3\n",
        "\n",
        "### FMNIST CNN Implimentation with Keras"
      ]
    },
    {
      "cell_type": "code",
      "execution_count": 18,
      "metadata": {
        "id": "ccRJi8VXH3_O"
      },
      "outputs": [],
      "source": [
        "import keras\n",
        "from keras.datasets import fashion_mnist\n",
        "from keras.models import Sequential\n",
        "from keras.layers import Conv2D, MaxPooling2D, Dense, Flatten\n",
        "from keras.optimizers import SGD\n",
        "from keras.utils import to_categorical\n",
        "import numpy as np"
      ]
    },
    {
      "cell_type": "code",
      "execution_count": 19,
      "metadata": {
        "id": "k41uN-aAIH6Y"
      },
      "outputs": [],
      "source": [
        "# Mapping the labels for the MNIST dataset\n",
        "labels_map = {\n",
        "    0: \"0\", 1: \"1\", 2: \"2\", 3: \"3\", 4: \"4\",\n",
        "    5: \"5\", 6: \"6\", 7: \"7\", 8: \"8\", 9: \"9\"\n",
        "}"
      ]
    },
    {
      "cell_type": "code",
      "execution_count": 20,
      "metadata": {
        "colab": {
          "base_uri": "https://localhost:8080/"
        },
        "id": "4_MUVyZ5Iksr",
        "outputId": "fee20814-4805-46b6-9c2a-cea97192b605"
      },
      "outputs": [],
      "source": [
        "# Load and preprocess the data\n",
        "(x_train, y_train), (x_test, y_test) = fashion_mnist.load_data()\n",
        "x_train = x_train / 255.0\n",
        "x_test = x_test / 255.0\n",
        "y_train = to_categorical(y_train)\n",
        "y_test = to_categorical(y_test)"
      ]
    },
    {
      "cell_type": "code",
      "execution_count": 21,
      "metadata": {
        "id": "AEoqWEFz5Ms-"
      },
      "outputs": [],
      "source": [
        "(x_train, y_train), (x_test, y_test) = fashion_mnist.load_data()\n",
        "\n",
        "# Preprocess the data\n",
        "x_train = x_train.reshape(x_train.shape[0], 28, 28, 1).astype('float32') / 255\n",
        "x_test = x_test.reshape(x_test.shape[0], 28, 28, 1).astype('float32') / 255\n",
        "\n",
        "# Convert labels to one-hot encoding\n",
        "y_train = to_categorical(y_train, 10)\n",
        "y_test = to_categorical(y_test, 10)"
      ]
    },
    {
      "cell_type": "code",
      "execution_count": 22,
      "metadata": {
        "colab": {
          "base_uri": "https://localhost:8080/"
        },
        "id": "eX_tkHuwEK7B",
        "outputId": "6914193e-b027-4100-ce9b-c27788c30802"
      },
      "outputs": [
        {
          "name": "stderr",
          "output_type": "stream",
          "text": [
            "/Users/thomasjones/.pyenv/versions/3.10.15/envs/MLExp/lib/python3.10/site-packages/keras/src/layers/convolutional/base_conv.py:107: UserWarning: Do not pass an `input_shape`/`input_dim` argument to a layer. When using Sequential models, prefer using an `Input(shape)` object as the first layer in the model instead.\n",
            "  super().__init__(activity_regularizer=activity_regularizer, **kwargs)\n",
            "2024-10-14 04:31:08.036516: I metal_plugin/src/device/metal_device.cc:1154] Metal device set to: Apple M1 Ultra\n",
            "2024-10-14 04:31:08.036554: I metal_plugin/src/device/metal_device.cc:296] systemMemory: 128.00 GB\n",
            "2024-10-14 04:31:08.036560: I metal_plugin/src/device/metal_device.cc:313] maxCacheSize: 48.00 GB\n",
            "2024-10-14 04:31:08.036575: I tensorflow/core/common_runtime/pluggable_device/pluggable_device_factory.cc:305] Could not identify NUMA node of platform GPU ID 0, defaulting to 0. Your kernel may not have been built with NUMA support.\n",
            "2024-10-14 04:31:08.036587: I tensorflow/core/common_runtime/pluggable_device/pluggable_device_factory.cc:271] Created TensorFlow device (/job:localhost/replica:0/task:0/device:GPU:0 with 0 MB memory) -> physical PluggableDevice (device: 0, name: METAL, pci bus id: <undefined>)\n"
          ]
        }
      ],
      "source": [
        "model = Sequential([\n",
        "    Conv2D(16, (3, 3), activation='sigmoid', input_shape=(28, 28, 1)),  # 16 filters (reduced), 3x3 kernel\n",
        "    MaxPooling2D(pool_size=(5, 5)),  # Max pooling with 2x2 pool size\n",
        "    # Flatten the output before passing to Dense layers\n",
        "    Flatten(),\n",
        "    Dense(64, activation='softmax'),  # Reduced from 128 to 64 units\n",
        "    Dense(10, activation='softmax')  # Output layer with 10 units for classification\n",
        "])\n",
        "\n",
        "## change the architecture with CONV2D, Pooling, and Dense."
      ]
    },
    {
      "cell_type": "code",
      "execution_count": 23,
      "metadata": {
        "id": "nPfHtKytJd9Q"
      },
      "outputs": [],
      "source": [
        "learning_rate = 0.01\n",
        "epochs = 5\n",
        "batch_size = 48\n",
        "\n",
        "# Compile the model\n",
        "model.compile(optimizer=SGD(learning_rate=learning_rate),\n",
        "              loss='categorical_crossentropy',\n",
        "              metrics=['accuracy'])"
      ]
    },
    {
      "cell_type": "code",
      "execution_count": 24,
      "metadata": {
        "colab": {
          "base_uri": "https://localhost:8080/"
        },
        "id": "JlPkc9auJkET",
        "outputId": "ed426026-a519-43d4-a811-039b74e7c7d4"
      },
      "outputs": [
        {
          "name": "stdout",
          "output_type": "stream",
          "text": [
            "Epoch 1/5\n"
          ]
        },
        {
          "name": "stderr",
          "output_type": "stream",
          "text": [
            "2024-10-14 04:31:08.517806: I tensorflow/core/grappler/optimizers/custom_graph_optimizer_registry.cc:117] Plugin optimizer for device_type GPU is enabled.\n"
          ]
        },
        {
          "name": "stdout",
          "output_type": "stream",
          "text": [
            "\u001b[1m1250/1250\u001b[0m \u001b[32m━━━━━━━━━━━━━━━━━━━━\u001b[0m\u001b[37m\u001b[0m \u001b[1m13s\u001b[0m 10ms/step - accuracy: 0.1028 - loss: 2.3025\n",
            "Epoch 2/5\n",
            "\u001b[1m1250/1250\u001b[0m \u001b[32m━━━━━━━━━━━━━━━━━━━━\u001b[0m\u001b[37m\u001b[0m \u001b[1m12s\u001b[0m 10ms/step - accuracy: 0.1085 - loss: 2.3024\n",
            "Epoch 3/5\n",
            "\u001b[1m1250/1250\u001b[0m \u001b[32m━━━━━━━━━━━━━━━━━━━━\u001b[0m\u001b[37m\u001b[0m \u001b[1m12s\u001b[0m 10ms/step - accuracy: 0.1058 - loss: 2.3023\n",
            "Epoch 4/5\n",
            "\u001b[1m1250/1250\u001b[0m \u001b[32m━━━━━━━━━━━━━━━━━━━━\u001b[0m\u001b[37m\u001b[0m \u001b[1m12s\u001b[0m 10ms/step - accuracy: 0.1110 - loss: 2.3022\n",
            "Epoch 5/5\n",
            "\u001b[1m1250/1250\u001b[0m \u001b[32m━━━━━━━━━━━━━━━━━━━━\u001b[0m\u001b[37m\u001b[0m \u001b[1m13s\u001b[0m 10ms/step - accuracy: 0.1178 - loss: 2.3021\n",
            "\u001b[1m313/313\u001b[0m \u001b[32m━━━━━━━━━━━━━━━━━━━━\u001b[0m\u001b[37m\u001b[0m \u001b[1m3s\u001b[0m 10ms/step - accuracy: 0.0961 - loss: 2.3019\n",
            "Test accuracy: 0.0997999981045723\n"
          ]
        }
      ],
      "source": [
        "model.fit(x_train, y_train, epochs=epochs, batch_size=batch_size, verbose=1)\n",
        "\n",
        "# Evaluate the model\n",
        "loss, accuracy = model.evaluate(x_test, y_test)\n",
        "print('Test accuracy:', accuracy)"
      ]
    },
    {
      "cell_type": "code",
      "execution_count": 25,
      "metadata": {
        "colab": {
          "base_uri": "https://localhost:8080/"
        },
        "id": "ig5GXhcG5fy6",
        "outputId": "b41b841c-b2e6-4520-e664-518039d33b4a"
      },
      "outputs": [
        {
          "name": "stdout",
          "output_type": "stream",
          "text": [
            "Epoch 1/5\n",
            "\u001b[1m1000/1000\u001b[0m \u001b[32m━━━━━━━━━━━━━━━━━━━━\u001b[0m\u001b[37m\u001b[0m \u001b[1m12s\u001b[0m 12ms/step - accuracy: 0.1254 - loss: 2.3019 - val_accuracy: 0.0948 - val_loss: 2.3018\n",
            "Epoch 2/5\n",
            "\u001b[1m1000/1000\u001b[0m \u001b[32m━━━━━━━━━━━━━━━━━━━━\u001b[0m\u001b[37m\u001b[0m \u001b[1m12s\u001b[0m 12ms/step - accuracy: 0.1136 - loss: 2.3018 - val_accuracy: 0.0978 - val_loss: 2.3017\n",
            "Epoch 3/5\n",
            "\u001b[1m1000/1000\u001b[0m \u001b[32m━━━━━━━━━━━━━━━━━━━━\u001b[0m\u001b[37m\u001b[0m \u001b[1m12s\u001b[0m 12ms/step - accuracy: 0.1152 - loss: 2.3017 - val_accuracy: 0.0958 - val_loss: 2.3016\n",
            "Epoch 4/5\n",
            "\u001b[1m1000/1000\u001b[0m \u001b[32m━━━━━━━━━━━━━━━━━━━━\u001b[0m\u001b[37m\u001b[0m \u001b[1m12s\u001b[0m 12ms/step - accuracy: 0.1226 - loss: 2.3015 - val_accuracy: 0.1462 - val_loss: 2.3015\n",
            "Epoch 5/5\n",
            "\u001b[1m1000/1000\u001b[0m \u001b[32m━━━━━━━━━━━━━━━━━━━━\u001b[0m\u001b[37m\u001b[0m \u001b[1m12s\u001b[0m 12ms/step - accuracy: 0.1231 - loss: 2.3013 - val_accuracy: 0.0965 - val_loss: 2.3012\n",
            "\u001b[1m313/313\u001b[0m \u001b[32m━━━━━━━━━━━━━━━━━━━━\u001b[0m\u001b[37m\u001b[0m \u001b[1m3s\u001b[0m 10ms/step - accuracy: 0.0989 - loss: 2.3012\n",
            "Test accuracy: 0.10080000013113022\n"
          ]
        }
      ],
      "source": [
        "from keras.callbacks import EarlyStopping\n",
        "\n",
        "# Define early stopping callback\n",
        "early_stopping = EarlyStopping(monitor='val_loss', patience=6, restore_best_weights=True)\n",
        "\n",
        "# Train the model with early stopping\n",
        "model.fit(x_train, y_train, epochs=epochs, batch_size=batch_size, verbose=1, validation_split=0.2, callbacks=[early_stopping])\n",
        "\n",
        "# Evaluate the model\n",
        "loss, accuracy = model.evaluate(x_test, y_test)\n",
        "print('Test accuracy:', accuracy)"
      ]
    },
    {
      "cell_type": "code",
      "execution_count": 26,
      "metadata": {
        "colab": {
          "base_uri": "https://localhost:8080/",
          "height": 445
        },
        "id": "zJa4Lf76KZDM",
        "outputId": "5f20b1c1-f05c-40d1-f0d1-930d6501c654"
      },
      "outputs": [
        {
          "name": "stdout",
          "output_type": "stream",
          "text": [
            "\u001b[1m1/1\u001b[0m \u001b[32m━━━━━━━━━━━━━━━━━━━━\u001b[0m\u001b[37m\u001b[0m \u001b[1m1s\u001b[0m 1s/step\n"
          ]
        },
        {
          "data": {
            "image/png": "[encoded data removed]",
            "text/plain": [
              "<Figure size 640x480 with 1 Axes>"
            ]
          },
          "metadata": {},
          "output_type": "display_data"
        }
      ],
      "source": [
        "image_index = 27\n",
        "\n",
        "# Extract the test image and label\n",
        "test_image = x_test[image_index]\n",
        "test_label = np.argmax(y_test[image_index])\n",
        "\n",
        "# Reshape the test image for prediction (Keras expects a batch dimension)\n",
        "test_image_reshaped = np.expand_dims(test_image, axis=0)\n",
        "\n",
        "# Make predictions on the test image\n",
        "predicted_label = np.argmax(model.predict(test_image_reshaped), axis=-1)\n",
        "\n",
        "# Plot the test image with predicted and actual labels\n",
        "plt.imshow(test_image, cmap='gray')\n",
        "plt.title(f'Predicted Label: {predicted_label[0]}, Actual Label: {test_label}')\n",
        "plt.axis('off')\n",
        "plt.show()"
      ]
    },
    {
      "cell_type": "markdown",
      "metadata": {
        "id": "XWO9KNmgQ0VX"
      },
      "source": [
        "### Just to explore TensorFlow Implemenation of CNN.\n",
        "\n",
        "Not Required For Submission."
      ]
    },
    {
      "cell_type": "code",
      "execution_count": 27,
      "metadata": {
        "colab": {
          "base_uri": "https://localhost:8080/"
        },
        "id": "cc8F7Lo_AOII",
        "outputId": "107054e4-528a-48a6-8b79-67bd294c8377"
      },
      "outputs": [
        {
          "name": "stdout",
          "output_type": "stream",
          "text": [
            "Epoch 1/5\n",
            "\u001b[1m1875/1875\u001b[0m \u001b[32m━━━━━━━━━━━━━━━━━━━━\u001b[0m\u001b[37m\u001b[0m \u001b[1m11s\u001b[0m 6ms/step - accuracy: 0.1009 - loss: 2.3027\n",
            "Epoch 2/5\n",
            "\u001b[1m1875/1875\u001b[0m \u001b[32m━━━━━━━━━━━━━━━━━━━━\u001b[0m\u001b[37m\u001b[0m \u001b[1m10s\u001b[0m 6ms/step - accuracy: 0.1013 - loss: 2.3026\n",
            "Epoch 3/5\n",
            "\u001b[1m1875/1875\u001b[0m \u001b[32m━━━━━━━━━━━━━━━━━━━━\u001b[0m\u001b[37m\u001b[0m \u001b[1m10s\u001b[0m 5ms/step - accuracy: 0.1046 - loss: 2.3026\n",
            "Epoch 4/5\n",
            "\u001b[1m1875/1875\u001b[0m \u001b[32m━━━━━━━━━━━━━━━━━━━━\u001b[0m\u001b[37m\u001b[0m \u001b[1m10s\u001b[0m 6ms/step - accuracy: 0.1025 - loss: 2.3025\n",
            "Epoch 5/5\n",
            "\u001b[1m1875/1875\u001b[0m \u001b[32m━━━━━━━━━━━━━━━━━━━━\u001b[0m\u001b[37m\u001b[0m \u001b[1m10s\u001b[0m 6ms/step - accuracy: 0.1051 - loss: 2.3025\n",
            "313/313 - 2s - 5ms/step - accuracy: 0.1003 - loss: 2.3024\n",
            "\n",
            "Test accuracy: 0.10029999911785126\n"
          ]
        }
      ],
      "source": [
        "import tensorflow as tf\n",
        "from tensorflow.keras import layers, models\n",
        "\n",
        "# Load the Fashion MNIST dataset\n",
        "fashion_mnist = tf.keras.datasets.fashion_mnist\n",
        "(train_images, train_labels), (test_images, test_labels) = fashion_mnist.load_data()\n",
        "\n",
        "# Normalize pixel values to be between 0 and 1\n",
        "train_images, test_images = train_images / 255.0, test_images / 255.0\n",
        "\n",
        "# Define the CNN model\n",
        "model = models.Sequential([\n",
        "    layers.Conv2D(16, (5, 5), activation='sigmoid', input_shape=(28, 28, 1)),\n",
        "    layers.MaxPooling2D((2, 2)),\n",
        "    layers.Conv2D(32, (3, 3), activation='tanh'),\n",
        "    layers.MaxPooling2D((3, 3)),\n",
        "    layers.Flatten(),\n",
        "    layers.Dense(128, activation='softmax'),\n",
        "    layers.Dense(10)\n",
        "])\n",
        "\n",
        "# Compile the model\n",
        "model.compile(optimizer='SGD',\n",
        "              loss=tf.keras.losses.SparseCategoricalCrossentropy(from_logits=True),\n",
        "              metrics=['accuracy'])\n",
        "\n",
        "# Train the model\n",
        "model.fit(train_images.reshape(-1, 28, 28, 1), train_labels, epochs=5)\n",
        "\n",
        "# Evaluate the model\n",
        "test_loss, test_acc = model.evaluate(test_images.reshape(-1, 28, 28, 1), test_labels, verbose=2)\n",
        "print('\\nTest accuracy:', test_acc)"
      ]
    },
    {
      "cell_type": "markdown",
      "metadata": {
        "id": "nK1xXT5W7cMS"
      },
      "source": [
        "## AUTOMATED TUNING (EXETENDED)"
      ]
    },
    {
      "cell_type": "code",
      "execution_count": 28,
      "metadata": {
        "id": "yIeVei_C8sVB"
      },
      "outputs": [],
      "source": [
        "# https://www.tensorflow.org/tensorboard/hyperparameter_tuning_with_hparams"
      ]
    }
  ],
  "metadata": {
    "accelerator": "GPU",
    "colab": {
      "gpuType": "T4",
      "provenance": [],
      "toc_visible": true
    },
    "kernelspec": {
      "display_name": "MLExp",
      "language": "python",
      "name": "mlexp"
    },
    "language_info": {
      "codemirror_mode": {
        "name": "ipython",
        "version": 3
      },
      "file_extension": ".py",
      "mimetype": "text/x-python",
      "name": "python",
      "nbconvert_exporter": "python",
      "pygments_lexer": "ipython3",
      "version": "3.10.15"
    }
  },
  "nbformat": 4,
  "nbformat_minor": 0
}
