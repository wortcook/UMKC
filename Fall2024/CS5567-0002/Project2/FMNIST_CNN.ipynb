{
 "cells": [
  {
   "cell_type": "code",
   "execution_count": 4,
   "metadata": {},
   "outputs": [],
   "source": [
    "import torch\n",
    "\n",
    "import keras\n",
    "import keras_tuner as kt\n",
    "import pandas as pd\n",
    "import os\n",
    "import json\n",
    "\n",
    "\n",
    "# Load and preprocess the data\n",
    "(x_train, y_train), (x_test, y_test) = keras.datasets.fashion_mnist.load_data()\n",
    "\n",
    "# Preprocess the data\n",
    "x_train = x_train.reshape(x_train.shape[0], 28, 28, 1).astype('float32') / 255\n",
    "x_test = x_test.reshape(x_test.shape[0], 28, 28, 1).astype('float32') / 255\n",
    "\n",
    "# Convert labels to one-hot encoding\n",
    "y_train = keras.utils.to_categorical(y_train, 10)\n",
    "y_test = keras.utils.to_categorical(y_test, 10)\n"
   ]
  },
  {
   "cell_type": "code",
   "execution_count": 18,
   "metadata": {},
   "outputs": [
    {
     "name": "stdout",
     "output_type": "stream",
     "text": [
      "Reloading Tuner from ./fashion_mnist03/tuner0.json\n"
     ]
    },
    {
     "name": "stderr",
     "output_type": "stream",
     "text": [
      "/Users/thomasjones/.pyenv/versions/3.10.15/envs/MLExp/lib/python3.10/site-packages/keras/src/saving/saving_lib.py:713: UserWarning: Skipping variable loading for optimizer 'adam', because it has 2 variables whereas the saved optimizer has 14 variables. \n",
      "  saveable.load_own_variables(weights_store.get(inner_path))\n"
     ]
    },
    {
     "data": {
      "text/html": [
       "<pre style=\"white-space:pre;overflow-x:auto;line-height:normal;font-family:Menlo,'DejaVu Sans Mono',consolas,'Courier New',monospace\"><span style=\"font-weight: bold\">Model: \"sequential\"</span>\n",
       "</pre>\n"
      ],
      "text/plain": [
       "\u001b[1mModel: \"sequential\"\u001b[0m\n"
      ]
     },
     "metadata": {},
     "output_type": "display_data"
    },
    {
     "data": {
      "text/html": [
       "<pre style=\"white-space:pre;overflow-x:auto;line-height:normal;font-family:Menlo,'DejaVu Sans Mono',consolas,'Courier New',monospace\">┏━━━━━━━━━━━━━━━━━━━━━━━━━━━━━━━━━┳━━━━━━━━━━━━━━━━━━━━━━━━┳━━━━━━━━━━━━━━━┓\n",
       "┃<span style=\"font-weight: bold\"> Layer (type)                    </span>┃<span style=\"font-weight: bold\"> Output Shape           </span>┃<span style=\"font-weight: bold\">       Param # </span>┃\n",
       "┡━━━━━━━━━━━━━━━━━━━━━━━━━━━━━━━━━╇━━━━━━━━━━━━━━━━━━━━━━━━╇━━━━━━━━━━━━━━━┩\n",
       "│ conv2d (<span style=\"color: #0087ff; text-decoration-color: #0087ff\">Conv2D</span>)                 │ (<span style=\"color: #00d7ff; text-decoration-color: #00d7ff\">None</span>, <span style=\"color: #00af00; text-decoration-color: #00af00\">24</span>, <span style=\"color: #00af00; text-decoration-color: #00af00\">24</span>, <span style=\"color: #00af00; text-decoration-color: #00af00\">32</span>)     │           <span style=\"color: #00af00; text-decoration-color: #00af00\">832</span> │\n",
       "├─────────────────────────────────┼────────────────────────┼───────────────┤\n",
       "│ max_pooling2d (<span style=\"color: #0087ff; text-decoration-color: #0087ff\">MaxPooling2D</span>)    │ (<span style=\"color: #00d7ff; text-decoration-color: #00d7ff\">None</span>, <span style=\"color: #00af00; text-decoration-color: #00af00\">12</span>, <span style=\"color: #00af00; text-decoration-color: #00af00\">12</span>, <span style=\"color: #00af00; text-decoration-color: #00af00\">32</span>)     │             <span style=\"color: #00af00; text-decoration-color: #00af00\">0</span> │\n",
       "├─────────────────────────────────┼────────────────────────┼───────────────┤\n",
       "│ dropout (<span style=\"color: #0087ff; text-decoration-color: #0087ff\">Dropout</span>)               │ (<span style=\"color: #00d7ff; text-decoration-color: #00d7ff\">None</span>, <span style=\"color: #00af00; text-decoration-color: #00af00\">12</span>, <span style=\"color: #00af00; text-decoration-color: #00af00\">12</span>, <span style=\"color: #00af00; text-decoration-color: #00af00\">32</span>)     │             <span style=\"color: #00af00; text-decoration-color: #00af00\">0</span> │\n",
       "├─────────────────────────────────┼────────────────────────┼───────────────┤\n",
       "│ flatten (<span style=\"color: #0087ff; text-decoration-color: #0087ff\">Flatten</span>)               │ (<span style=\"color: #00d7ff; text-decoration-color: #00d7ff\">None</span>, <span style=\"color: #00af00; text-decoration-color: #00af00\">4608</span>)           │             <span style=\"color: #00af00; text-decoration-color: #00af00\">0</span> │\n",
       "├─────────────────────────────────┼────────────────────────┼───────────────┤\n",
       "│ dense (<span style=\"color: #0087ff; text-decoration-color: #0087ff\">Dense</span>)                   │ (<span style=\"color: #00d7ff; text-decoration-color: #00d7ff\">None</span>, <span style=\"color: #00af00; text-decoration-color: #00af00\">256</span>)            │     <span style=\"color: #00af00; text-decoration-color: #00af00\">1,179,904</span> │\n",
       "├─────────────────────────────────┼────────────────────────┼───────────────┤\n",
       "│ dense_1 (<span style=\"color: #0087ff; text-decoration-color: #0087ff\">Dense</span>)                 │ (<span style=\"color: #00d7ff; text-decoration-color: #00d7ff\">None</span>, <span style=\"color: #00af00; text-decoration-color: #00af00\">10</span>)             │         <span style=\"color: #00af00; text-decoration-color: #00af00\">2,570</span> │\n",
       "└─────────────────────────────────┴────────────────────────┴───────────────┘\n",
       "</pre>\n"
      ],
      "text/plain": [
       "┏━━━━━━━━━━━━━━━━━━━━━━━━━━━━━━━━━┳━━━━━━━━━━━━━━━━━━━━━━━━┳━━━━━━━━━━━━━━━┓\n",
       "┃\u001b[1m \u001b[0m\u001b[1mLayer (type)                   \u001b[0m\u001b[1m \u001b[0m┃\u001b[1m \u001b[0m\u001b[1mOutput Shape          \u001b[0m\u001b[1m \u001b[0m┃\u001b[1m \u001b[0m\u001b[1m      Param #\u001b[0m\u001b[1m \u001b[0m┃\n",
       "┡━━━━━━━━━━━━━━━━━━━━━━━━━━━━━━━━━╇━━━━━━━━━━━━━━━━━━━━━━━━╇━━━━━━━━━━━━━━━┩\n",
       "│ conv2d (\u001b[38;5;33mConv2D\u001b[0m)                 │ (\u001b[38;5;45mNone\u001b[0m, \u001b[38;5;34m24\u001b[0m, \u001b[38;5;34m24\u001b[0m, \u001b[38;5;34m32\u001b[0m)     │           \u001b[38;5;34m832\u001b[0m │\n",
       "├─────────────────────────────────┼────────────────────────┼───────────────┤\n",
       "│ max_pooling2d (\u001b[38;5;33mMaxPooling2D\u001b[0m)    │ (\u001b[38;5;45mNone\u001b[0m, \u001b[38;5;34m12\u001b[0m, \u001b[38;5;34m12\u001b[0m, \u001b[38;5;34m32\u001b[0m)     │             \u001b[38;5;34m0\u001b[0m │\n",
       "├─────────────────────────────────┼────────────────────────┼───────────────┤\n",
       "│ dropout (\u001b[38;5;33mDropout\u001b[0m)               │ (\u001b[38;5;45mNone\u001b[0m, \u001b[38;5;34m12\u001b[0m, \u001b[38;5;34m12\u001b[0m, \u001b[38;5;34m32\u001b[0m)     │             \u001b[38;5;34m0\u001b[0m │\n",
       "├─────────────────────────────────┼────────────────────────┼───────────────┤\n",
       "│ flatten (\u001b[38;5;33mFlatten\u001b[0m)               │ (\u001b[38;5;45mNone\u001b[0m, \u001b[38;5;34m4608\u001b[0m)           │             \u001b[38;5;34m0\u001b[0m │\n",
       "├─────────────────────────────────┼────────────────────────┼───────────────┤\n",
       "│ dense (\u001b[38;5;33mDense\u001b[0m)                   │ (\u001b[38;5;45mNone\u001b[0m, \u001b[38;5;34m256\u001b[0m)            │     \u001b[38;5;34m1,179,904\u001b[0m │\n",
       "├─────────────────────────────────┼────────────────────────┼───────────────┤\n",
       "│ dense_1 (\u001b[38;5;33mDense\u001b[0m)                 │ (\u001b[38;5;45mNone\u001b[0m, \u001b[38;5;34m10\u001b[0m)             │         \u001b[38;5;34m2,570\u001b[0m │\n",
       "└─────────────────────────────────┴────────────────────────┴───────────────┘\n"
      ]
     },
     "metadata": {},
     "output_type": "display_data"
    },
    {
     "data": {
      "text/html": [
       "<pre style=\"white-space:pre;overflow-x:auto;line-height:normal;font-family:Menlo,'DejaVu Sans Mono',consolas,'Courier New',monospace\"><span style=\"font-weight: bold\"> Total params: </span><span style=\"color: #00af00; text-decoration-color: #00af00\">1,183,306</span> (4.51 MB)\n",
       "</pre>\n"
      ],
      "text/plain": [
       "\u001b[1m Total params: \u001b[0m\u001b[38;5;34m1,183,306\u001b[0m (4.51 MB)\n"
      ]
     },
     "metadata": {},
     "output_type": "display_data"
    },
    {
     "data": {
      "text/html": [
       "<pre style=\"white-space:pre;overflow-x:auto;line-height:normal;font-family:Menlo,'DejaVu Sans Mono',consolas,'Courier New',monospace\"><span style=\"font-weight: bold\"> Trainable params: </span><span style=\"color: #00af00; text-decoration-color: #00af00\">1,183,306</span> (4.51 MB)\n",
       "</pre>\n"
      ],
      "text/plain": [
       "\u001b[1m Trainable params: \u001b[0m\u001b[38;5;34m1,183,306\u001b[0m (4.51 MB)\n"
      ]
     },
     "metadata": {},
     "output_type": "display_data"
    },
    {
     "data": {
      "text/html": [
       "<pre style=\"white-space:pre;overflow-x:auto;line-height:normal;font-family:Menlo,'DejaVu Sans Mono',consolas,'Courier New',monospace\"><span style=\"font-weight: bold\"> Non-trainable params: </span><span style=\"color: #00af00; text-decoration-color: #00af00\">0</span> (0.00 B)\n",
       "</pre>\n"
      ],
      "text/plain": [
       "\u001b[1m Non-trainable params: \u001b[0m\u001b[38;5;34m0\u001b[0m (0.00 B)\n"
      ]
     },
     "metadata": {},
     "output_type": "display_data"
    }
   ],
   "source": [
    "\n",
    "class HyperModelSearch(kt.HyperModel):\n",
    "\n",
    "    def build(self,hp):\n",
    "        model = keras.Sequential()\n",
    "\n",
    "        input_layer_should_have_dropout = hp.Boolean('input_layer_should_have_dropout')\n",
    "        input_layer_dropout = hp.Float('input_layer_dropout', min_value=0.1, max_value=0.5, step=0.1, parent_name='input_layer_should_have_dropout', parent_values=[True])\n",
    "\n",
    "        layer_1_filter_count = hp.Int('layer_1_filter_count', min_value=32, max_value=64, step=16)\n",
    "        layer_1_kernel_size = hp.Int('layer_1_kernel_size', min_value=3, max_value=5, step=1)\n",
    "        layer_1_activation = hp.Choice('layer_1_activation', values=['relu', 'sigmoid'])\n",
    "        should_have_layer_1_dropout = hp.Boolean('should_have_layer_1_dropout')\n",
    "        layer_1_dropout = hp.Float('layer_1_dropout', min_value=0.1, max_value=0.5, step=0.1, parent_name='should_have_layer_1_dropout', parent_values=[True])\n",
    "\n",
    "\n",
    "        should_have_layer_2 = hp.Boolean('should_have_layer_2')\n",
    "        layer_2_filter_count = hp.Int('layer_2_filter_count', min_value=64, max_value=128, step=16, parent_name='should_have_layer_2', parent_values=[True])\n",
    "        layer_2_activation = hp.Choice('layer_2_activation', values=['relu', 'sigmoid'], parent_name='should_have_layer_2', parent_values=[True])\n",
    "        should_have_layer_2_dropout = hp.Boolean('should_have_layer_2_dropout', parent_name='should_have_layer_2', parent_values=[True])\n",
    "        layer_2_dropout = hp.Float('layer_2_dropout', min_value=0.1, max_value=0.5, step=0.1, parent_name='should_have_layer_2', parent_values=[True])\n",
    "        \n",
    "\n",
    "        dense_layer1_units = hp.Int('dense_layer_units', min_value=32, max_value=256, step=32)\n",
    "        dense_layer1_activation = hp.Choice('dense_layer_activation', values=['relu', 'sigmoid'])\n",
    "\n",
    "        should_have_dense_layer2 = hp.Boolean('should_have_dense_layer2')\n",
    "        dense_layer2_units = hp.Int('dense_layer2_units', min_value=32, max_value=128, step=32, parent_name='should_have_dense_layer2', parent_values=[True])\n",
    "        dense_layer2_activation = hp.Choice('dense_layer2_activation', values=['relu', 'sigmoid'], parent_name='should_have_dense_layer2', parent_values=[True])\n",
    "\n",
    "        learning_rate = 0.001\n",
    "\n",
    "        optizmizer = hp.Choice('optimizer', values=['adam', 'sgd'])\n",
    "\n",
    "        if optizmizer == 'adam':\n",
    "            learning_rate = hp.Choice('learning_rate', values=[0.001, 0.002])\n",
    "            optimizer = keras.optimizers.Adam(learning_rate=learning_rate)\n",
    "        elif optizmizer == 'sgd':\n",
    "            learning_rate = hp.Choice('learning_rate', values=[0.01, 0.02])\n",
    "            momentum = hp.Choice('momentum', values=[0.5, 0.1])\n",
    "            optimizer = keras.optimizers.SGD(learning_rate=learning_rate, momentum=momentum)\n",
    "\n",
    "\n",
    "        model.add(keras.layers.Input(shape=(28,28,1)))\n",
    "        if input_layer_should_have_dropout:\n",
    "            model.add(keras.layers.Dropout(input_layer_dropout))\n",
    "        model.add(keras.layers.Conv2D(filters=layer_1_filter_count, kernel_size=layer_1_kernel_size, activation=layer_1_activation))\n",
    "        model.add(keras.layers.MaxPooling2D(pool_size=2))\n",
    "        if should_have_layer_1_dropout:\n",
    "            model.add(keras.layers.Dropout(layer_1_dropout))\n",
    "\n",
    "        if should_have_layer_2:\n",
    "            model.add(keras.layers.Conv2D(filters=layer_2_filter_count, kernel_size=3, activation=layer_2_activation))\n",
    "            model.add(keras.layers.MaxPooling2D(pool_size=2))\n",
    "            if should_have_layer_2_dropout:\n",
    "                model.add(keras.layers.Dropout(layer_2_dropout))\n",
    "\n",
    "        model.add(keras.layers.Flatten())\n",
    "        model.add(keras.layers.Dense(dense_layer1_units, activation=dense_layer1_activation))\n",
    "        if should_have_dense_layer2:\n",
    "            model.add(keras.layers.Dense(dense_layer2_units, activation=dense_layer2_activation))\n",
    "        model.add(keras.layers.Dense(10, activation='softmax'))\n",
    "\n",
    "        model.compile(optimizer=optimizer, loss='categorical_crossentropy', metrics=['accuracy'])\n",
    "\n",
    "        return model\n",
    "    \n",
    "    def fit(self, hp, model, *args, **kwargs):\n",
    "        return model.fit(\n",
    "            *args, \n",
    "            batch_size=hp.Int('batch_size', min_value=32, max_value=256, step=32),\n",
    "            epochs=hp.Int('epochs', min_value=10, max_value=30, step=10),\n",
    "            **kwargs\n",
    "        )\n",
    "    \n",
    "\n",
    "\n",
    "# trials = kt.GridSearch(build_model, objective='val_accuracy', max_trials=5, seed=42)\n",
    "# trials = kt.BayesianOptimization(build_model, num_initial_points=3, objective='val_accuracy', max_trials=250, project_name='fashion_mnist02')\n",
    "trials = kt.RandomSearch(HyperModelSearch(), objective='val_accuracy', max_trials=250, project_name='fashion_mnist03', seed=42)\n",
    "\n",
    "trials.search(x_train, y_train, validation_data=(x_test, y_test))\n",
    "\n",
    "results_dir = './fashion_mnist03'\n",
    "\n",
    "best_model = trials.get_best_models(num_models=2)[1]\n",
    "\n",
    "best_model.summary()\n",
    "\n",
    "res_csv = os.path.join(results_dir, 'results3.csv')\n",
    "\n",
    "#create the results file\n",
    "\n",
    "outfile = open(res_csv, 'w')\n",
    "\n",
    "oracle_data = json.load(open(os.path.join(results_dir, 'oracle.json')))\n",
    "\n",
    "all_hyperparameters = [str(x['config']['name']) for x in oracle_data['hyperparameters']['space']]\n",
    "\n",
    "\n",
    "outfile.write(f\"{','.join(all_hyperparameters)},score\\n\")\n",
    "\n",
    "#iterate through the trial folders in the results directory\n",
    "for trial in os.listdir(results_dir):\n",
    "    trial_path = os.path.join(results_dir, trial)\n",
    "    if os.path.isdir(trial_path):\n",
    "        trial_json = os.path.join(trial_path, 'trial.json')\n",
    "        with open(trial_json) as f:\n",
    "            trial_data = json.load(f)\n",
    "            model_values = trial_data['hyperparameters']['values']\n",
    "            #join the keys\n",
    "\n",
    "            model_str = ''\n",
    "\n",
    "            for k in all_hyperparameters:\n",
    "                if k not in model_values:\n",
    "                    model_str += ','\n",
    "                else:\n",
    "                    model_str += str(model_values[k]) + ','\n",
    "\n",
    "            outfile.write(f\"{model_str},{trial_data['score']}\\n\")\n",
    "\n",
    "outfile.close()\n",
    "\n",
    "\n"
   ]
  }
 ],
 "metadata": {
  "kernelspec": {
   "display_name": "MLExp",
   "language": "python",
   "name": "mlexp"
  },
  "language_info": {
   "codemirror_mode": {
    "name": "ipython",
    "version": 3
   },
   "file_extension": ".py",
   "mimetype": "text/x-python",
   "name": "python",
   "nbconvert_exporter": "python",
   "pygments_lexer": "ipython3",
   "version": "3.10.15"
  }
 },
 "nbformat": 4,
 "nbformat_minor": 2
}
